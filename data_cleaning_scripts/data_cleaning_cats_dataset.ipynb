{
 "cells": [
  {
   "cell_type": "markdown",
   "source": [
    "# Data cleaning sul dataset dei gatti"
   ],
   "metadata": {
    "collapsed": false
   }
  },
  {
   "cell_type": "markdown",
   "source": [
    "<h3> Importo le librerie </h3>"
   ],
   "metadata": {
    "collapsed": false
   }
  },
  {
   "cell_type": "code",
   "execution_count": 2,
   "metadata": {
    "collapsed": true
   },
   "outputs": [],
   "source": [
    "import pandas as pd"
   ]
  },
  {
   "cell_type": "markdown",
   "source": [
    "<h3> Visualizzo i datasets </h3>"
   ],
   "metadata": {
    "collapsed": false
   }
  },
  {
   "cell_type": "code",
   "execution_count": 3,
   "outputs": [],
   "source": [
    "# Carico i dataset\n",
    "gatti = pd.read_csv('../dataset/original-datasets/gatti.csv')\n",
    "gatti_breeds = pd.read_csv('../dataset/separate-datasets/cat_breeds.csv')"
   ],
   "metadata": {
    "collapsed": false
   }
  },
  {
   "cell_type": "code",
   "execution_count": 4,
   "outputs": [
    {
     "data": {
      "text/plain": "                 name           length                    origin  \\\n0          Abyssinian  12 to 16 inches            Southeast Asia   \n1              Aegean           Medium                    Greece   \n2    American Bobtail           Medium  United States and Canada   \n3  American Shorthair  12 to 15 inches             United States   \n4   American Wirehair  Medium to large             United States   \n\n   min_life_expectancy  max_life_expectancy  min_weight  max_weight  \\\n0                  9.0                 15.0         6.0        10.0   \n1                  9.0                 10.0         7.0        10.0   \n2                 11.0                 15.0         8.0        13.0   \n3                 15.0                 20.0         7.0        12.0   \n4                 14.0                 18.0         8.0        15.0   \n\n   family_friendly  shedding  general_health  playfulness  children_friendly  \\\n0                3         3               2            5                  5   \n1                5         3               4            4                  5   \n2                4         4               4            4                  4   \n3                3         3               4            2                  4   \n4                4         3               5            3                  4   \n\n   grooming  intelligence  other_pets_friendly  \n0         3             5                    5  \n1         4             4                    3  \n2         3             4                    4  \n3         4             4                    3  \n4         5             4                    3  ",
      "text/html": "<div>\n<style scoped>\n    .dataframe tbody tr th:only-of-type {\n        vertical-align: middle;\n    }\n\n    .dataframe tbody tr th {\n        vertical-align: top;\n    }\n\n    .dataframe thead th {\n        text-align: right;\n    }\n</style>\n<table border=\"1\" class=\"dataframe\">\n  <thead>\n    <tr style=\"text-align: right;\">\n      <th></th>\n      <th>name</th>\n      <th>length</th>\n      <th>origin</th>\n      <th>min_life_expectancy</th>\n      <th>max_life_expectancy</th>\n      <th>min_weight</th>\n      <th>max_weight</th>\n      <th>family_friendly</th>\n      <th>shedding</th>\n      <th>general_health</th>\n      <th>playfulness</th>\n      <th>children_friendly</th>\n      <th>grooming</th>\n      <th>intelligence</th>\n      <th>other_pets_friendly</th>\n    </tr>\n  </thead>\n  <tbody>\n    <tr>\n      <th>0</th>\n      <td>Abyssinian</td>\n      <td>12 to 16 inches</td>\n      <td>Southeast Asia</td>\n      <td>9.0</td>\n      <td>15.0</td>\n      <td>6.0</td>\n      <td>10.0</td>\n      <td>3</td>\n      <td>3</td>\n      <td>2</td>\n      <td>5</td>\n      <td>5</td>\n      <td>3</td>\n      <td>5</td>\n      <td>5</td>\n    </tr>\n    <tr>\n      <th>1</th>\n      <td>Aegean</td>\n      <td>Medium</td>\n      <td>Greece</td>\n      <td>9.0</td>\n      <td>10.0</td>\n      <td>7.0</td>\n      <td>10.0</td>\n      <td>5</td>\n      <td>3</td>\n      <td>4</td>\n      <td>4</td>\n      <td>5</td>\n      <td>4</td>\n      <td>4</td>\n      <td>3</td>\n    </tr>\n    <tr>\n      <th>2</th>\n      <td>American Bobtail</td>\n      <td>Medium</td>\n      <td>United States and Canada</td>\n      <td>11.0</td>\n      <td>15.0</td>\n      <td>8.0</td>\n      <td>13.0</td>\n      <td>4</td>\n      <td>4</td>\n      <td>4</td>\n      <td>4</td>\n      <td>4</td>\n      <td>3</td>\n      <td>4</td>\n      <td>4</td>\n    </tr>\n    <tr>\n      <th>3</th>\n      <td>American Shorthair</td>\n      <td>12 to 15 inches</td>\n      <td>United States</td>\n      <td>15.0</td>\n      <td>20.0</td>\n      <td>7.0</td>\n      <td>12.0</td>\n      <td>3</td>\n      <td>3</td>\n      <td>4</td>\n      <td>2</td>\n      <td>4</td>\n      <td>4</td>\n      <td>4</td>\n      <td>3</td>\n    </tr>\n    <tr>\n      <th>4</th>\n      <td>American Wirehair</td>\n      <td>Medium to large</td>\n      <td>United States</td>\n      <td>14.0</td>\n      <td>18.0</td>\n      <td>8.0</td>\n      <td>15.0</td>\n      <td>4</td>\n      <td>3</td>\n      <td>5</td>\n      <td>3</td>\n      <td>4</td>\n      <td>5</td>\n      <td>4</td>\n      <td>3</td>\n    </tr>\n  </tbody>\n</table>\n</div>"
     },
     "execution_count": 4,
     "metadata": {},
     "output_type": "execute_result"
    }
   ],
   "source": [
    "gatti.head()"
   ],
   "metadata": {
    "collapsed": false
   }
  },
  {
   "cell_type": "code",
   "execution_count": 5,
   "outputs": [
    {
     "data": {
      "text/plain": "                Breed  Affectionate with Family  Amount of Shedding  \\\n0          Abyssinian                       3.0                 3.0   \n1    American Bobtail                       4.0                 4.0   \n2       American Curl                       5.0                 4.0   \n3  American Shorthair                       3.0                 3.0   \n4   American Wirehair                       4.0                 3.0   \n\n   Easy to Groom  General Health  Intelligence  Kid Friendly  Pet Friendly  \\\n0            3.0             2.0           5.0           5.0           5.0   \n1            3.0             4.0           4.0           4.0           4.0   \n2            4.0             5.0           NaN           4.0           4.0   \n3            4.0             4.0           4.0           4.0           3.0   \n4            5.0             5.0           4.0           4.0           3.0   \n\n   Potential for Playfulness  Friendly Toward Strangers  Tendency to Vocalize  \n0                        5.0                        NaN                   NaN  \n1                        4.0                        4.0                   3.0  \n2                        4.0                        4.0                   5.0  \n3                        2.0                        4.0                   NaN  \n4                        3.0                        3.0                   NaN  ",
      "text/html": "<div>\n<style scoped>\n    .dataframe tbody tr th:only-of-type {\n        vertical-align: middle;\n    }\n\n    .dataframe tbody tr th {\n        vertical-align: top;\n    }\n\n    .dataframe thead th {\n        text-align: right;\n    }\n</style>\n<table border=\"1\" class=\"dataframe\">\n  <thead>\n    <tr style=\"text-align: right;\">\n      <th></th>\n      <th>Breed</th>\n      <th>Affectionate with Family</th>\n      <th>Amount of Shedding</th>\n      <th>Easy to Groom</th>\n      <th>General Health</th>\n      <th>Intelligence</th>\n      <th>Kid Friendly</th>\n      <th>Pet Friendly</th>\n      <th>Potential for Playfulness</th>\n      <th>Friendly Toward Strangers</th>\n      <th>Tendency to Vocalize</th>\n    </tr>\n  </thead>\n  <tbody>\n    <tr>\n      <th>0</th>\n      <td>Abyssinian</td>\n      <td>3.0</td>\n      <td>3.0</td>\n      <td>3.0</td>\n      <td>2.0</td>\n      <td>5.0</td>\n      <td>5.0</td>\n      <td>5.0</td>\n      <td>5.0</td>\n      <td>NaN</td>\n      <td>NaN</td>\n    </tr>\n    <tr>\n      <th>1</th>\n      <td>American Bobtail</td>\n      <td>4.0</td>\n      <td>4.0</td>\n      <td>3.0</td>\n      <td>4.0</td>\n      <td>4.0</td>\n      <td>4.0</td>\n      <td>4.0</td>\n      <td>4.0</td>\n      <td>4.0</td>\n      <td>3.0</td>\n    </tr>\n    <tr>\n      <th>2</th>\n      <td>American Curl</td>\n      <td>5.0</td>\n      <td>4.0</td>\n      <td>4.0</td>\n      <td>5.0</td>\n      <td>NaN</td>\n      <td>4.0</td>\n      <td>4.0</td>\n      <td>4.0</td>\n      <td>4.0</td>\n      <td>5.0</td>\n    </tr>\n    <tr>\n      <th>3</th>\n      <td>American Shorthair</td>\n      <td>3.0</td>\n      <td>3.0</td>\n      <td>4.0</td>\n      <td>4.0</td>\n      <td>4.0</td>\n      <td>4.0</td>\n      <td>3.0</td>\n      <td>2.0</td>\n      <td>4.0</td>\n      <td>NaN</td>\n    </tr>\n    <tr>\n      <th>4</th>\n      <td>American Wirehair</td>\n      <td>4.0</td>\n      <td>3.0</td>\n      <td>5.0</td>\n      <td>5.0</td>\n      <td>4.0</td>\n      <td>4.0</td>\n      <td>3.0</td>\n      <td>3.0</td>\n      <td>3.0</td>\n      <td>NaN</td>\n    </tr>\n  </tbody>\n</table>\n</div>"
     },
     "execution_count": 5,
     "metadata": {},
     "output_type": "execute_result"
    }
   ],
   "source": [
    "gatti_breeds.head()"
   ],
   "metadata": {
    "collapsed": false
   }
  },
  {
   "cell_type": "markdown",
   "source": [
    "<h3> Unione dei due dataset </h3>"
   ],
   "metadata": {
    "collapsed": false
   }
  },
  {
   "cell_type": "code",
   "execution_count": 6,
   "outputs": [
    {
     "name": "stdout",
     "output_type": "stream",
     "text": [
      "Index(['Breed', 'Affectionate with Family', 'Amount of Shedding',\n",
      "       'Easy to Groom', 'General Health', 'Intelligence', 'Kid Friendly',\n",
      "       'Pet Friendly', 'Potential for Playfulness',\n",
      "       'Friendly Toward Strangers', 'Tendency to Vocalize'],\n",
      "      dtype='object')\n"
     ]
    }
   ],
   "source": [
    "# Aggiungo le colonne di 'cat_breeds' a 'gatti'\n",
    "print(gatti_breeds.columns)"
   ],
   "metadata": {
    "collapsed": false
   }
  },
  {
   "cell_type": "code",
   "execution_count": 7,
   "outputs": [],
   "source": [
    "# Rinomino la colonna 'name' in 'Breed'\n",
    "gatti = gatti.rename(columns={'name': 'Breed'})"
   ],
   "metadata": {
    "collapsed": false
   }
  },
  {
   "cell_type": "code",
   "execution_count": 8,
   "outputs": [
    {
     "name": "stdout",
     "output_type": "stream",
     "text": [
      "                Breed           length                    origin  \\\n",
      "0          Abyssinian  12 to 16 inches            Southeast Asia   \n",
      "1              Aegean           Medium                    Greece   \n",
      "2    American Bobtail           Medium  United States and Canada   \n",
      "3  American Shorthair  12 to 15 inches             United States   \n",
      "4   American Wirehair  Medium to large             United States   \n",
      "\n",
      "   min_life_expectancy  max_life_expectancy  min_weight  max_weight  \\\n",
      "0                  9.0                 15.0         6.0        10.0   \n",
      "1                  9.0                 10.0         7.0        10.0   \n",
      "2                 11.0                 15.0         8.0        13.0   \n",
      "3                 15.0                 20.0         7.0        12.0   \n",
      "4                 14.0                 18.0         8.0        15.0   \n",
      "\n",
      "   family_friendly  shedding  general_health  playfulness  children_friendly  \\\n",
      "0                3         3               2            5                  5   \n",
      "1                5         3               4            4                  5   \n",
      "2                4         4               4            4                  4   \n",
      "3                3         3               4            2                  4   \n",
      "4                4         3               5            3                  4   \n",
      "\n",
      "   grooming  intelligence  other_pets_friendly  \n",
      "0         3             5                    5  \n",
      "1         4             4                    3  \n",
      "2         3             4                    4  \n",
      "3         4             4                    3  \n",
      "4         5             4                    3  \n"
     ]
    }
   ],
   "source": [
    "print(gatti.head())"
   ],
   "metadata": {
    "collapsed": false
   }
  },
  {
   "cell_type": "code",
   "execution_count": 9,
   "outputs": [],
   "source": [
    "#Aggiungo le colonne di cat_breeds a gatti\n",
    "gatti['Affectionate with Family'] = ''\n",
    "gatti['Amount of Shedding'] = ''\n",
    "gatti['Easy to Groom'] = ''\n",
    "gatti['General Health'] = ''\n",
    "gatti['Intelligence'] = ''\n",
    "gatti['Kid Friendly'] = ''\n",
    "gatti['Pet Friendly'] = ''\n",
    "gatti['Potential for Playfulness'] = ''\n",
    "gatti['Friendly Toward Strangers'] = ''\n",
    "gatti['Tendency to Vocalize'] = ''"
   ],
   "metadata": {
    "collapsed": false
   }
  },
  {
   "cell_type": "code",
   "execution_count": 10,
   "outputs": [
    {
     "name": "stdout",
     "output_type": "stream",
     "text": [
      "Index(['Breed', 'length', 'origin', 'min_life_expectancy',\n",
      "       'max_life_expectancy', 'min_weight', 'max_weight', 'family_friendly',\n",
      "       'shedding', 'general_health', 'playfulness', 'children_friendly',\n",
      "       'grooming', 'intelligence', 'other_pets_friendly',\n",
      "       'Affectionate with Family', 'Amount of Shedding', 'Easy to Groom',\n",
      "       'General Health', 'Intelligence', 'Kid Friendly', 'Pet Friendly',\n",
      "       'Potential for Playfulness', 'Friendly Toward Strangers',\n",
      "       'Tendency to Vocalize'],\n",
      "      dtype='object')\n"
     ]
    }
   ],
   "source": [
    "print(gatti.columns)"
   ],
   "metadata": {
    "collapsed": false
   }
  },
  {
   "cell_type": "code",
   "execution_count": 11,
   "outputs": [
    {
     "name": "stdout",
     "output_type": "stream",
     "text": [
      "['Abyssinian', 'American Bobtail', 'American Curl', 'American Shorthair', 'American Wirehair', 'Balinese', 'Bengal Cats', 'Birman', 'Bombay', 'British Shorthair', 'Burmese', 'Burmilla', 'Chartreux', 'Chinese Li Hua', 'Colorpoint Shorthair', 'Cornish Rex', 'Cymric', 'Devon Rex', 'Egyptian Mau', 'European Burmese', 'Exotic', 'Havana Brown', 'Himalayan', 'Japanese Bobtail', 'Javanese', 'Korat', 'LaPerm', 'Maine Coon', 'Manx', 'Nebelung', 'Norwegian Forest', 'Ocicat', 'Oriental', 'Persian', 'Pixie-Bob', 'Ragamuffin', 'Ragdoll Cats', 'Russian Blue', 'Savannah', 'Scottish Fold', 'Selkirk Rex', 'Siamese Cat', 'Siberian', 'Singapura', 'Snowshoe', 'Somali', 'Sphynx', 'Tonkinese', 'Turkish Angora', 'Turkish Van']\n"
     ]
    }
   ],
   "source": [
    "# Creo una lista con i nomi delle razze di gatto presenti in cat_breeds\n",
    "razze_gatti = gatti_breeds['Breed'].tolist()\n",
    "print(razze_gatti)"
   ],
   "metadata": {
    "collapsed": false
   }
  },
  {
   "cell_type": "code",
   "execution_count": 12,
   "outputs": [
    {
     "name": "stdout",
     "output_type": "stream",
     "text": [
      "Modificata la razza 'Abyssinian' in 'gatti.csv'.\n",
      "Modificata la razza 'American Bobtail' in 'gatti.csv'.\n",
      "Aggiunta la razza 'American Curl' a 'gatti.csv'.\n",
      "Modificata la razza 'American Shorthair' in 'gatti.csv'.\n",
      "Modificata la razza 'American Wirehair' in 'gatti.csv'.\n",
      "Aggiunta la razza 'Balinese' a 'gatti.csv'.\n",
      "Modificata la razza 'Bengal Cats' in 'gatti.csv'.\n",
      "Modificata la razza 'Birman' in 'gatti.csv'.\n",
      "Modificata la razza 'Bombay' in 'gatti.csv'.\n",
      "Modificata la razza 'British Shorthair' in 'gatti.csv'.\n",
      "Modificata la razza 'Burmese' in 'gatti.csv'.\n",
      "Modificata la razza 'Burmilla' in 'gatti.csv'.\n",
      "Aggiunta la razza 'Chartreux' a 'gatti.csv'.\n",
      "Aggiunta la razza 'Chinese Li Hua' a 'gatti.csv'.\n",
      "Modificata la razza 'Colorpoint Shorthair' in 'gatti.csv'.\n",
      "Modificata la razza 'Cornish Rex' in 'gatti.csv'.\n",
      "Aggiunta la razza 'Cymric' a 'gatti.csv'.\n",
      "Modificata la razza 'Devon Rex' in 'gatti.csv'.\n",
      "Aggiunta la razza 'Egyptian Mau' a 'gatti.csv'.\n",
      "Aggiunta la razza 'European Burmese' a 'gatti.csv'.\n",
      "Aggiunta la razza 'Exotic' a 'gatti.csv'.\n",
      "Aggiunta la razza 'Havana Brown' a 'gatti.csv'.\n",
      "Aggiunta la razza 'Himalayan' a 'gatti.csv'.\n",
      "Modificata la razza 'Japanese Bobtail' in 'gatti.csv'.\n",
      "Modificata la razza 'Javanese' in 'gatti.csv'.\n",
      "Aggiunta la razza 'Korat' a 'gatti.csv'.\n",
      "Aggiunta la razza 'LaPerm' a 'gatti.csv'.\n",
      "Modificata la razza 'Maine Coon' in 'gatti.csv'.\n",
      "Modificata la razza 'Manx' in 'gatti.csv'.\n",
      "Modificata la razza 'Nebelung' in 'gatti.csv'.\n",
      "Aggiunta la razza 'Norwegian Forest' a 'gatti.csv'.\n",
      "Aggiunta la razza 'Ocicat' a 'gatti.csv'.\n",
      "Aggiunta la razza 'Oriental' a 'gatti.csv'.\n",
      "Modificata la razza 'Persian' in 'gatti.csv'.\n",
      "Modificata la razza 'Pixie-Bob' in 'gatti.csv'.\n",
      "Aggiunta la razza 'Ragamuffin' a 'gatti.csv'.\n",
      "Modificata la razza 'Ragdoll Cats' in 'gatti.csv'.\n",
      "Modificata la razza 'Russian Blue' in 'gatti.csv'.\n",
      "Modificata la razza 'Savannah' in 'gatti.csv'.\n",
      "Modificata la razza 'Scottish Fold' in 'gatti.csv'.\n",
      "Aggiunta la razza 'Selkirk Rex' a 'gatti.csv'.\n",
      "Modificata la razza 'Siamese Cat' in 'gatti.csv'.\n",
      "Modificata la razza 'Siberian' in 'gatti.csv'.\n",
      "Modificata la razza 'Singapura' in 'gatti.csv'.\n",
      "Modificata la razza 'Snowshoe' in 'gatti.csv'.\n",
      "Modificata la razza 'Somali' in 'gatti.csv'.\n",
      "Modificata la razza 'Sphynx' in 'gatti.csv'.\n",
      "Modificata la razza 'Tonkinese' in 'gatti.csv'.\n",
      "Modificata la razza 'Turkish Angora' in 'gatti.csv'.\n",
      "Modificata la razza 'Turkish Van' in 'gatti.csv'.\n"
     ]
    }
   ],
   "source": [
    "# Per ogni razza di quelle dette sopra, controllo se ci sta in 'gatti.csv'.\n",
    "# Se ci sta, integro la riga corrispondente con i dati di cat_breeds\n",
    "for razza in razze_gatti:\n",
    "    # Se la razza è presente in 'gatti.csv'\n",
    "    if razza in gatti['Breed'].values:\n",
    "        # Trova l'indice della riga corrispondente nel DataFrame 'gatti'\n",
    "        index_gatti = gatti[gatti['Breed'] == razza].index[0]\n",
    "        index_breeds = gatti_breeds[gatti_breeds['Breed'] == razza].index[0]\n",
    "        # Modifica i valori della colonna corrispondente alla colonna in 'cat_breeds.csv' con i valori presenti in quest'ultimo\n",
    "        gatti.loc[index_gatti, 'Affectionate with Family'] = gatti_breeds.iloc[index_breeds]['Affectionate with Family']\n",
    "        gatti.loc[index_gatti, 'Amount of Shedding'] = gatti_breeds.iloc[index_breeds]['Amount of Shedding']\n",
    "        gatti.loc[index_gatti, 'Easy to Groom'] = gatti_breeds.iloc[index_breeds]['Easy to Groom']\n",
    "        gatti.loc[index_gatti, 'General Health'] = gatti_breeds.iloc[index_breeds]['General Health']\n",
    "        gatti.loc[index_gatti, 'Intelligence'] = gatti_breeds.iloc[index_breeds]['Intelligence']\n",
    "        gatti.loc[index_gatti, 'Kid Friendly'] = gatti_breeds.iloc[index_breeds]['Kid Friendly']\n",
    "        gatti.loc[index_gatti, 'Pet Friendly'] = gatti_breeds.iloc[index_breeds]['Pet Friendly']\n",
    "        gatti.loc[index_gatti, 'Potential for Playfulness'] = gatti_breeds.iloc[index_breeds]['Potential for Playfulness']\n",
    "        gatti.loc[index_gatti, 'Friendly Toward Strangers'] = gatti_breeds.iloc[index_breeds]['Friendly Toward Strangers']\n",
    "        gatti.loc[index_gatti, 'Tendency to Vocalize'] = gatti_breeds.iloc[index_breeds]['Tendency to Vocalize']\n",
    "        print(f\"Modificata la razza '{razza}' in 'gatti.csv'.\")\n",
    "    else:\n",
    "      index_breeds = gatti_breeds[gatti_breeds['Breed'] == razza].index[0]\n",
    "      # Se la razza non è presente, significa che non è presente in 'gatti.csv', ma c'è nell'altro, quindi si aggiunge\n",
    "      nuova_riga = {\n",
    "        'Breed': razza,\n",
    "        'Affectionate with Family': gatti_breeds.loc[index_breeds, 'Affectionate with Family'],\n",
    "        'Amount of Shedding': gatti_breeds.loc[index_breeds, 'Amount of Shedding'],\n",
    "        'Easy to Groom': gatti_breeds.loc[index_breeds, 'Easy to Groom'],\n",
    "        'General Health': gatti_breeds.loc[index_breeds, 'General Health'],\n",
    "        'Intelligence': gatti_breeds.loc[index_breeds, 'Intelligence'],\n",
    "        'Kid Friendly': gatti_breeds.loc[index_breeds, 'Kid Friendly'],\n",
    "        'Pet Friendly': gatti_breeds.loc[index_breeds, 'Pet Friendly'],\n",
    "        'Potential for Playfulness': gatti_breeds.loc[index_breeds, 'Potential for Playfulness'],\n",
    "        'Friendly Toward Strangers': gatti_breeds.loc[index_breeds, 'Friendly Toward Strangers'],\n",
    "        'Tendency to Vocalize': gatti_breeds.loc[index_breeds, 'Tendency to Vocalize']\n",
    "        }\n",
    "      nuova_riga_df = pd.DataFrame([nuova_riga])\n",
    "      gatti = pd.concat([gatti, nuova_riga_df], ignore_index=True)\n",
    "      print(f\"Aggiunta la razza '{razza}' a 'gatti.csv'.\")"
   ],
   "metadata": {
    "collapsed": false
   }
  },
  {
   "cell_type": "code",
   "execution_count": 13,
   "outputs": [
    {
     "name": "stdout",
     "output_type": "stream",
     "text": [
      "79\n"
     ]
    }
   ],
   "source": [
    "# Ottieni il numero di righe\n",
    "print(gatti.shape[0])"
   ],
   "metadata": {
    "collapsed": false
   }
  },
  {
   "cell_type": "markdown",
   "source": [
    "<h3> Pulizia degli attributi </h3>"
   ],
   "metadata": {
    "collapsed": false
   }
  },
  {
   "cell_type": "code",
   "execution_count": 14,
   "outputs": [
    {
     "name": "stdout",
     "output_type": "stream",
     "text": [
      "79\n"
     ]
    }
   ],
   "source": [
    "# Creo una lista con i nomi delle razze di gatto presenti in cat_breeds\n",
    "razze_gatti_new = gatti['Breed'].tolist()\n",
    "print(len(razze_gatti_new))"
   ],
   "metadata": {
    "collapsed": false
   }
  },
  {
   "cell_type": "code",
   "execution_count": 15,
   "outputs": [],
   "source": [
    "def contaValoriNulliENon (colonna1, colonna2):\n",
    "  print(f\"Valori presenti nella {colonna1}: {gatti[colonna1].count()}\")\n",
    "  print(f\"Valori presenti nella {colonna2}: {gatti[colonna2].count()}\")\n",
    "  # Conto i valori nulli nelle due colonne\n",
    "  num_valori_nulli = gatti[colonna1].isnull().sum() + (gatti[colonna1] == '').sum()\n",
    "  print(f\"Valori nulli in {colonna1}: {num_valori_nulli}\")\n",
    "  num_valori_nulli = gatti[colonna2].isnull().sum() + (gatti[colonna2] == '').sum()\n",
    "  print(f\"Valori nulli in {colonna2}: {num_valori_nulli}\")"
   ],
   "metadata": {
    "collapsed": false
   }
  },
  {
   "cell_type": "code",
   "execution_count": 16,
   "outputs": [],
   "source": [
    "def aggiornaValori (colonna_da_eliminare, colonna_da_mantenere):\n",
    "  i=0\n",
    "  #Prima controllo se ci sono valori che ci sono in 'General Health' e non in 'general_health'\n",
    "  for razza in razze_gatti_new:\n",
    "      # Trova l'indice della riga corrispondente nel DataFrame 'gatti'\n",
    "      index_gatti = gatti[gatti['Breed'] == razza].index[0]\n",
    "      # Vedo se non è presente il valore 'general_health'\n",
    "      if pd.isnull(gatti.loc[index_gatti, colonna_da_mantenere]) or gatti.loc[index_gatti, colonna_da_mantenere] == '':\n",
    "        # Vedo se è presente il valore 'General Health'\n",
    "        if pd.notnull(gatti.loc[index_gatti, colonna_da_eliminare]) and gatti.loc[index_gatti, colonna_da_eliminare] != '':\n",
    "          gatti.loc[index_gatti, colonna_da_mantenere] = gatti.iloc[index_gatti][colonna_da_eliminare]\n",
    "          i += 1\n",
    "          print(f\"{i} - Modificata la razza '{razza}' in 'gatti.csv'.\")"
   ],
   "metadata": {
    "collapsed": false
   }
  },
  {
   "cell_type": "code",
   "execution_count": 17,
   "outputs": [],
   "source": [
    "def controllaValoriNulli(colonna):\n",
    "  # Filtra il DataFrame per ottenere le righe con valori nulli o vuoti nella colonna 'family_friendly'\n",
    "  istanze_valori_nulli = gatti[gatti[colonna].isnull() | (gatti[colonna] == '')]\n",
    "\n",
    "  # Mostra le istanze con valori nulli o vuoti\n",
    "  print(f\"Istanze con valori nulli o vuoti in {colonna}:\")\n",
    "  print(istanze_valori_nulli)"
   ],
   "metadata": {
    "collapsed": false
   }
  },
  {
   "cell_type": "code",
   "execution_count": 18,
   "outputs": [
    {
     "name": "stdout",
     "output_type": "stream",
     "text": [
      "Index(['Breed', 'length', 'origin', 'min_life_expectancy',\n",
      "       'max_life_expectancy', 'min_weight', 'max_weight', 'family_friendly',\n",
      "       'shedding', 'general_health', 'playfulness', 'children_friendly',\n",
      "       'grooming', 'intelligence', 'other_pets_friendly',\n",
      "       'Affectionate with Family', 'Amount of Shedding', 'Easy to Groom',\n",
      "       'General Health', 'Intelligence', 'Kid Friendly', 'Pet Friendly',\n",
      "       'Potential for Playfulness', 'Friendly Toward Strangers',\n",
      "       'Tendency to Vocalize'],\n",
      "      dtype='object')\n"
     ]
    }
   ],
   "source": [
    "print(gatti.columns)"
   ],
   "metadata": {
    "collapsed": false
   }
  },
  {
   "cell_type": "markdown",
   "source": [
    "<h4> Attributi <em>family_friendly</em> e <em>Affectionate with Family</em></h4>"
   ],
   "metadata": {
    "collapsed": false
   }
  },
  {
   "cell_type": "code",
   "execution_count": 19,
   "outputs": [
    {
     "name": "stdout",
     "output_type": "stream",
     "text": [
      "3.0\n",
      "3.0\n"
     ]
    }
   ],
   "source": [
    "#Vedo la prima riga\n",
    "print(gatti.iloc[0]['family_friendly'])\n",
    "print(gatti.iloc[0]['Affectionate with Family'])"
   ],
   "metadata": {
    "collapsed": false
   }
  },
  {
   "cell_type": "code",
   "execution_count": 20,
   "outputs": [
    {
     "name": "stdout",
     "output_type": "stream",
     "text": [
      "Valori presenti nella family_friendly: 62\n",
      "Valori presenti nella Affectionate with Family: 76\n",
      "Valori nulli in family_friendly: 17\n",
      "Valori nulli in Affectionate with Family: 32\n"
     ]
    }
   ],
   "source": [
    "contaValoriNulliENon('family_friendly', 'Affectionate with Family')"
   ],
   "metadata": {
    "collapsed": false
   }
  },
  {
   "cell_type": "code",
   "execution_count": 21,
   "outputs": [
    {
     "name": "stdout",
     "output_type": "stream",
     "text": [
      "1 - Modificata la razza 'American Curl' in 'gatti.csv'.\n",
      "2 - Modificata la razza 'Balinese' in 'gatti.csv'.\n",
      "3 - Modificata la razza 'Chartreux' in 'gatti.csv'.\n",
      "4 - Modificata la razza 'Cymric' in 'gatti.csv'.\n",
      "5 - Modificata la razza 'Egyptian Mau' in 'gatti.csv'.\n",
      "6 - Modificata la razza 'European Burmese' in 'gatti.csv'.\n",
      "7 - Modificata la razza 'Exotic' in 'gatti.csv'.\n",
      "8 - Modificata la razza 'Havana Brown' in 'gatti.csv'.\n",
      "9 - Modificata la razza 'Himalayan' in 'gatti.csv'.\n",
      "10 - Modificata la razza 'Korat' in 'gatti.csv'.\n",
      "11 - Modificata la razza 'LaPerm' in 'gatti.csv'.\n",
      "12 - Modificata la razza 'Norwegian Forest' in 'gatti.csv'.\n",
      "13 - Modificata la razza 'Ocicat' in 'gatti.csv'.\n",
      "14 - Modificata la razza 'Ragamuffin' in 'gatti.csv'.\n",
      "15 - Modificata la razza 'Selkirk Rex' in 'gatti.csv'.\n"
     ]
    }
   ],
   "source": [
    "aggiornaValori('Affectionate with Family', 'family_friendly')"
   ],
   "metadata": {
    "collapsed": false
   }
  },
  {
   "cell_type": "code",
   "execution_count": 22,
   "outputs": [
    {
     "name": "stdout",
     "output_type": "stream",
     "text": [
      "Istanze con valori nulli o vuoti in family_friendly:\n",
      "             Breed length origin  min_life_expectancy  max_life_expectancy  \\\n",
      "65  Chinese Li Hua    NaN    NaN                  NaN                  NaN   \n",
      "76        Oriental    NaN    NaN                  NaN                  NaN   \n",
      "\n",
      "    min_weight  max_weight  family_friendly  shedding  general_health  ...  \\\n",
      "65         NaN         NaN              NaN       NaN             NaN  ...   \n",
      "76         NaN         NaN              NaN       NaN             NaN  ...   \n",
      "\n",
      "    Affectionate with Family  Amount of Shedding  Easy to Groom  \\\n",
      "65                       NaN                 NaN            NaN   \n",
      "76                       NaN                 NaN            NaN   \n",
      "\n",
      "    General Health  Intelligence Kid Friendly Pet Friendly  \\\n",
      "65             NaN           NaN          NaN          NaN   \n",
      "76             NaN           NaN          NaN          NaN   \n",
      "\n",
      "   Potential for Playfulness Friendly Toward Strangers Tendency to Vocalize  \n",
      "65                       NaN                       NaN                  NaN  \n",
      "76                       NaN                       NaN                  1.0  \n",
      "\n",
      "[2 rows x 25 columns]\n"
     ]
    }
   ],
   "source": [
    "controllaValoriNulli('family_friendly')"
   ],
   "metadata": {
    "collapsed": false
   }
  },
  {
   "cell_type": "code",
   "execution_count": 23,
   "outputs": [],
   "source": [
    "#Affectionate with Family ha meno valori, quindi elimino quella colonna\n",
    "gatti = gatti.drop(columns=['Affectionate with Family'])"
   ],
   "metadata": {
    "collapsed": false
   }
  },
  {
   "cell_type": "markdown",
   "source": [
    "<h4> Attributi <em>shedding</em> e <em>Amount of Shedding</em></h4>"
   ],
   "metadata": {
    "collapsed": false
   }
  },
  {
   "cell_type": "code",
   "execution_count": 24,
   "outputs": [
    {
     "name": "stdout",
     "output_type": "stream",
     "text": [
      "3.0\n",
      "3.0\n"
     ]
    }
   ],
   "source": [
    "#Vedo la prima riga\n",
    "print(gatti.iloc[0]['shedding'])\n",
    "print(gatti.iloc[0]['Amount of Shedding'])"
   ],
   "metadata": {
    "collapsed": false
   }
  },
  {
   "cell_type": "code",
   "execution_count": 25,
   "outputs": [
    {
     "name": "stdout",
     "output_type": "stream",
     "text": [
      "Valori presenti nella shedding: 62\n",
      "Valori presenti nella Amount of Shedding: 76\n",
      "Valori nulli in shedding: 17\n",
      "Valori nulli in Amount of Shedding: 32\n"
     ]
    }
   ],
   "source": [
    "contaValoriNulliENon('shedding', 'Amount of Shedding')"
   ],
   "metadata": {
    "collapsed": false
   }
  },
  {
   "cell_type": "code",
   "execution_count": 26,
   "outputs": [
    {
     "name": "stdout",
     "output_type": "stream",
     "text": [
      "1 - Modificata la razza 'American Curl' in 'gatti.csv'.\n",
      "2 - Modificata la razza 'Balinese' in 'gatti.csv'.\n",
      "3 - Modificata la razza 'Chartreux' in 'gatti.csv'.\n",
      "4 - Modificata la razza 'Cymric' in 'gatti.csv'.\n",
      "5 - Modificata la razza 'Egyptian Mau' in 'gatti.csv'.\n",
      "6 - Modificata la razza 'European Burmese' in 'gatti.csv'.\n",
      "7 - Modificata la razza 'Exotic' in 'gatti.csv'.\n",
      "8 - Modificata la razza 'Havana Brown' in 'gatti.csv'.\n",
      "9 - Modificata la razza 'Himalayan' in 'gatti.csv'.\n",
      "10 - Modificata la razza 'Korat' in 'gatti.csv'.\n",
      "11 - Modificata la razza 'LaPerm' in 'gatti.csv'.\n",
      "12 - Modificata la razza 'Norwegian Forest' in 'gatti.csv'.\n",
      "13 - Modificata la razza 'Ocicat' in 'gatti.csv'.\n",
      "14 - Modificata la razza 'Ragamuffin' in 'gatti.csv'.\n",
      "15 - Modificata la razza 'Selkirk Rex' in 'gatti.csv'.\n"
     ]
    }
   ],
   "source": [
    "aggiornaValori('Amount of Shedding', 'shedding')"
   ],
   "metadata": {
    "collapsed": false
   }
  },
  {
   "cell_type": "code",
   "execution_count": 27,
   "outputs": [
    {
     "name": "stdout",
     "output_type": "stream",
     "text": [
      "Istanze con valori nulli o vuoti in shedding:\n",
      "             Breed length origin  min_life_expectancy  max_life_expectancy  \\\n",
      "65  Chinese Li Hua    NaN    NaN                  NaN                  NaN   \n",
      "76        Oriental    NaN    NaN                  NaN                  NaN   \n",
      "\n",
      "    min_weight  max_weight  family_friendly  shedding  general_health  ...  \\\n",
      "65         NaN         NaN              NaN       NaN             NaN  ...   \n",
      "76         NaN         NaN              NaN       NaN             NaN  ...   \n",
      "\n",
      "    other_pets_friendly  Amount of Shedding  Easy to Groom  General Health  \\\n",
      "65                  NaN                 NaN            NaN             NaN   \n",
      "76                  NaN                 NaN            NaN             NaN   \n",
      "\n",
      "    Intelligence Kid Friendly Pet Friendly Potential for Playfulness  \\\n",
      "65           NaN          NaN          NaN                       NaN   \n",
      "76           NaN          NaN          NaN                       NaN   \n",
      "\n",
      "   Friendly Toward Strangers Tendency to Vocalize  \n",
      "65                       NaN                  NaN  \n",
      "76                       NaN                  1.0  \n",
      "\n",
      "[2 rows x 24 columns]\n"
     ]
    }
   ],
   "source": [
    "controllaValoriNulli('shedding')"
   ],
   "metadata": {
    "collapsed": false
   }
  },
  {
   "cell_type": "code",
   "execution_count": 28,
   "outputs": [],
   "source": [
    "#Amount of Shedding ha meno valori, quindi elimino quella colonna\n",
    "gatti = gatti.drop(columns=['Amount of Shedding'])"
   ],
   "metadata": {
    "collapsed": false
   }
  },
  {
   "cell_type": "markdown",
   "source": [
    "<h4> Attributi <em>grooming</em> e <em>Easy to Groom</em></h4>"
   ],
   "metadata": {
    "collapsed": false
   }
  },
  {
   "cell_type": "code",
   "execution_count": 29,
   "outputs": [
    {
     "name": "stdout",
     "output_type": "stream",
     "text": [
      "3.0\n",
      "3.0\n"
     ]
    }
   ],
   "source": [
    "#Vedo la prima riga\n",
    "print(gatti.iloc[0]['grooming'])\n",
    "print(gatti.iloc[0]['Easy to Groom'])"
   ],
   "metadata": {
    "collapsed": false
   }
  },
  {
   "cell_type": "code",
   "execution_count": 30,
   "outputs": [
    {
     "name": "stdout",
     "output_type": "stream",
     "text": [
      "Valori presenti nella grooming: 62\n",
      "Valori presenti nella Easy to Groom: 75\n",
      "Valori nulli in grooming: 17\n",
      "Valori nulli in Easy to Groom: 33\n"
     ]
    }
   ],
   "source": [
    "contaValoriNulliENon('grooming', 'Easy to Groom')"
   ],
   "metadata": {
    "collapsed": false
   }
  },
  {
   "cell_type": "code",
   "execution_count": 31,
   "outputs": [
    {
     "name": "stdout",
     "output_type": "stream",
     "text": [
      "1 - Modificata la razza 'American Curl' in 'gatti.csv'.\n",
      "2 - Modificata la razza 'Balinese' in 'gatti.csv'.\n",
      "3 - Modificata la razza 'Chartreux' in 'gatti.csv'.\n",
      "4 - Modificata la razza 'Cymric' in 'gatti.csv'.\n",
      "5 - Modificata la razza 'Egyptian Mau' in 'gatti.csv'.\n",
      "6 - Modificata la razza 'European Burmese' in 'gatti.csv'.\n",
      "7 - Modificata la razza 'Exotic' in 'gatti.csv'.\n",
      "8 - Modificata la razza 'Havana Brown' in 'gatti.csv'.\n",
      "9 - Modificata la razza 'Himalayan' in 'gatti.csv'.\n",
      "10 - Modificata la razza 'Korat' in 'gatti.csv'.\n",
      "11 - Modificata la razza 'LaPerm' in 'gatti.csv'.\n",
      "12 - Modificata la razza 'Norwegian Forest' in 'gatti.csv'.\n",
      "13 - Modificata la razza 'Ocicat' in 'gatti.csv'.\n",
      "14 - Modificata la razza 'Ragamuffin' in 'gatti.csv'.\n",
      "15 - Modificata la razza 'Selkirk Rex' in 'gatti.csv'.\n"
     ]
    }
   ],
   "source": [
    "aggiornaValori('Easy to Groom', 'grooming')"
   ],
   "metadata": {
    "collapsed": false
   }
  },
  {
   "cell_type": "code",
   "execution_count": 32,
   "outputs": [
    {
     "name": "stdout",
     "output_type": "stream",
     "text": [
      "Istanze con valori nulli o vuoti in grooming:\n",
      "             Breed length origin  min_life_expectancy  max_life_expectancy  \\\n",
      "65  Chinese Li Hua    NaN    NaN                  NaN                  NaN   \n",
      "76        Oriental    NaN    NaN                  NaN                  NaN   \n",
      "\n",
      "    min_weight  max_weight  family_friendly  shedding  general_health  ...  \\\n",
      "65         NaN         NaN              NaN       NaN             NaN  ...   \n",
      "76         NaN         NaN              NaN       NaN             NaN  ...   \n",
      "\n",
      "    intelligence  other_pets_friendly  Easy to Groom  General Health  \\\n",
      "65           NaN                  NaN            NaN             NaN   \n",
      "76           NaN                  NaN            NaN             NaN   \n",
      "\n",
      "    Intelligence Kid Friendly Pet Friendly Potential for Playfulness  \\\n",
      "65           NaN          NaN          NaN                       NaN   \n",
      "76           NaN          NaN          NaN                       NaN   \n",
      "\n",
      "   Friendly Toward Strangers Tendency to Vocalize  \n",
      "65                       NaN                  NaN  \n",
      "76                       NaN                  1.0  \n",
      "\n",
      "[2 rows x 23 columns]\n"
     ]
    }
   ],
   "source": [
    "controllaValoriNulli('grooming')"
   ],
   "metadata": {
    "collapsed": false
   }
  },
  {
   "cell_type": "code",
   "execution_count": 33,
   "outputs": [],
   "source": [
    "#Easy to Groom ha meno valori, quindi elimino quella colonna\n",
    "gatti = gatti.drop(columns=['Easy to Groom'])"
   ],
   "metadata": {
    "collapsed": false
   }
  },
  {
   "cell_type": "markdown",
   "source": [
    "<h4> Attributi <em>general_health</em> e <em>General Health</em></h4>"
   ],
   "metadata": {
    "collapsed": false
   }
  },
  {
   "cell_type": "code",
   "execution_count": 34,
   "outputs": [
    {
     "name": "stdout",
     "output_type": "stream",
     "text": [
      "2.0\n",
      "2.0\n"
     ]
    }
   ],
   "source": [
    "#Vedo la prima riga\n",
    "print(gatti.iloc[0]['general_health'])\n",
    "print(gatti.iloc[0]['General Health'])"
   ],
   "metadata": {
    "collapsed": false
   }
  },
  {
   "cell_type": "code",
   "execution_count": 35,
   "outputs": [
    {
     "name": "stdout",
     "output_type": "stream",
     "text": [
      "Valori presenti nella general_health: 62\n",
      "Valori presenti nella General Health: 76\n",
      "Valori nulli in general_health: 17\n",
      "Valori nulli in General Health: 32\n"
     ]
    }
   ],
   "source": [
    "contaValoriNulliENon('general_health', 'General Health')"
   ],
   "metadata": {
    "collapsed": false
   }
  },
  {
   "cell_type": "code",
   "execution_count": 36,
   "outputs": [
    {
     "name": "stdout",
     "output_type": "stream",
     "text": [
      "1 - Modificata la razza 'American Curl' in 'gatti.csv'.\n",
      "2 - Modificata la razza 'Balinese' in 'gatti.csv'.\n",
      "3 - Modificata la razza 'Chartreux' in 'gatti.csv'.\n",
      "4 - Modificata la razza 'Cymric' in 'gatti.csv'.\n",
      "5 - Modificata la razza 'Egyptian Mau' in 'gatti.csv'.\n",
      "6 - Modificata la razza 'European Burmese' in 'gatti.csv'.\n",
      "7 - Modificata la razza 'Exotic' in 'gatti.csv'.\n",
      "8 - Modificata la razza 'Havana Brown' in 'gatti.csv'.\n",
      "9 - Modificata la razza 'Himalayan' in 'gatti.csv'.\n",
      "10 - Modificata la razza 'Korat' in 'gatti.csv'.\n",
      "11 - Modificata la razza 'LaPerm' in 'gatti.csv'.\n",
      "12 - Modificata la razza 'Norwegian Forest' in 'gatti.csv'.\n",
      "13 - Modificata la razza 'Ocicat' in 'gatti.csv'.\n",
      "14 - Modificata la razza 'Ragamuffin' in 'gatti.csv'.\n",
      "15 - Modificata la razza 'Selkirk Rex' in 'gatti.csv'.\n"
     ]
    }
   ],
   "source": [
    "aggiornaValori('General Health', 'general_health')"
   ],
   "metadata": {
    "collapsed": false
   }
  },
  {
   "cell_type": "code",
   "execution_count": 37,
   "outputs": [
    {
     "name": "stdout",
     "output_type": "stream",
     "text": [
      "Istanze con valori nulli o vuoti in general_health:\n",
      "             Breed length origin  min_life_expectancy  max_life_expectancy  \\\n",
      "65  Chinese Li Hua    NaN    NaN                  NaN                  NaN   \n",
      "76        Oriental    NaN    NaN                  NaN                  NaN   \n",
      "\n",
      "    min_weight  max_weight  family_friendly  shedding  general_health  ...  \\\n",
      "65         NaN         NaN              NaN       NaN             NaN  ...   \n",
      "76         NaN         NaN              NaN       NaN             NaN  ...   \n",
      "\n",
      "    grooming  intelligence  other_pets_friendly  General Health  Intelligence  \\\n",
      "65       NaN           NaN                  NaN             NaN           NaN   \n",
      "76       NaN           NaN                  NaN             NaN           NaN   \n",
      "\n",
      "   Kid Friendly Pet Friendly Potential for Playfulness  \\\n",
      "65          NaN          NaN                       NaN   \n",
      "76          NaN          NaN                       NaN   \n",
      "\n",
      "   Friendly Toward Strangers Tendency to Vocalize  \n",
      "65                       NaN                  NaN  \n",
      "76                       NaN                  1.0  \n",
      "\n",
      "[2 rows x 22 columns]\n"
     ]
    }
   ],
   "source": [
    "controllaValoriNulli('general_health')"
   ],
   "metadata": {
    "collapsed": false
   }
  },
  {
   "cell_type": "code",
   "execution_count": 38,
   "outputs": [],
   "source": [
    "#General Health ha meno valori, quindi elimino quella colonna\n",
    "gatti = gatti.drop(columns=['General Health'])"
   ],
   "metadata": {
    "collapsed": false
   }
  },
  {
   "cell_type": "markdown",
   "source": [
    "<h4> Attributi <em>intelligence</em> e <em>Intelligence</em></h4>"
   ],
   "metadata": {
    "collapsed": false
   }
  },
  {
   "cell_type": "code",
   "execution_count": 39,
   "outputs": [
    {
     "name": "stdout",
     "output_type": "stream",
     "text": [
      "5.0\n",
      "5.0\n"
     ]
    }
   ],
   "source": [
    "#Vedo la prima riga\n",
    "print(gatti.iloc[0]['intelligence'])\n",
    "print(gatti.iloc[0]['Intelligence'])"
   ],
   "metadata": {
    "collapsed": false
   }
  },
  {
   "cell_type": "code",
   "execution_count": 40,
   "outputs": [
    {
     "name": "stdout",
     "output_type": "stream",
     "text": [
      "Valori presenti nella intelligence: 62\n",
      "Valori presenti nella Intelligence: 63\n",
      "Valori nulli in intelligence: 17\n",
      "Valori nulli in Intelligence: 45\n"
     ]
    }
   ],
   "source": [
    "contaValoriNulliENon('intelligence', 'Intelligence')"
   ],
   "metadata": {
    "collapsed": false
   }
  },
  {
   "cell_type": "code",
   "execution_count": 41,
   "outputs": [
    {
     "name": "stdout",
     "output_type": "stream",
     "text": [
      "1 - Modificata la razza 'Cymric' in 'gatti.csv'.\n",
      "2 - Modificata la razza 'European Burmese' in 'gatti.csv'.\n",
      "3 - Modificata la razza 'Exotic' in 'gatti.csv'.\n",
      "4 - Modificata la razza 'Ocicat' in 'gatti.csv'.\n",
      "5 - Modificata la razza 'Ragamuffin' in 'gatti.csv'.\n"
     ]
    }
   ],
   "source": [
    "aggiornaValori('Intelligence', 'intelligence')"
   ],
   "metadata": {
    "collapsed": false
   }
  },
  {
   "cell_type": "code",
   "execution_count": 42,
   "outputs": [
    {
     "name": "stdout",
     "output_type": "stream",
     "text": [
      "Istanze con valori nulli o vuoti in intelligence:\n",
      "               Breed length origin  min_life_expectancy  max_life_expectancy  \\\n",
      "62     American Curl    NaN    NaN                  NaN                  NaN   \n",
      "63          Balinese    NaN    NaN                  NaN                  NaN   \n",
      "64         Chartreux    NaN    NaN                  NaN                  NaN   \n",
      "65    Chinese Li Hua    NaN    NaN                  NaN                  NaN   \n",
      "67      Egyptian Mau    NaN    NaN                  NaN                  NaN   \n",
      "70      Havana Brown    NaN    NaN                  NaN                  NaN   \n",
      "71         Himalayan    NaN    NaN                  NaN                  NaN   \n",
      "72             Korat    NaN    NaN                  NaN                  NaN   \n",
      "73            LaPerm    NaN    NaN                  NaN                  NaN   \n",
      "74  Norwegian Forest    NaN    NaN                  NaN                  NaN   \n",
      "76          Oriental    NaN    NaN                  NaN                  NaN   \n",
      "78       Selkirk Rex    NaN    NaN                  NaN                  NaN   \n",
      "\n",
      "    min_weight  max_weight  family_friendly  shedding  general_health  ...  \\\n",
      "62         NaN         NaN              5.0       4.0             5.0  ...   \n",
      "63         NaN         NaN              4.0       3.0             2.0  ...   \n",
      "64         NaN         NaN              3.0       4.0             4.0  ...   \n",
      "65         NaN         NaN              NaN       NaN             NaN  ...   \n",
      "67         NaN         NaN              5.0       3.0             4.0  ...   \n",
      "70         NaN         NaN              5.0       3.0             4.0  ...   \n",
      "71         NaN         NaN              4.0       5.0             2.0  ...   \n",
      "72         NaN         NaN              5.0       1.0             4.0  ...   \n",
      "73         NaN         NaN              4.0       2.0             4.0  ...   \n",
      "74         NaN         NaN              2.0       4.0             2.0  ...   \n",
      "76         NaN         NaN              NaN       NaN             NaN  ...   \n",
      "78         NaN         NaN              4.0       4.0             3.0  ...   \n",
      "\n",
      "    children_friendly  grooming  intelligence  other_pets_friendly  \\\n",
      "62                NaN       4.0           NaN                  NaN   \n",
      "63                NaN       4.0           NaN                  NaN   \n",
      "64                NaN       2.0           NaN                  NaN   \n",
      "65                NaN       NaN           NaN                  NaN   \n",
      "67                NaN       4.0           NaN                  NaN   \n",
      "70                NaN       5.0           NaN                  NaN   \n",
      "71                NaN       1.0           NaN                  NaN   \n",
      "72                NaN       5.0           NaN                  NaN   \n",
      "73                NaN       4.0           NaN                  NaN   \n",
      "74                NaN       2.0           NaN                  NaN   \n",
      "76                NaN       NaN           NaN                  NaN   \n",
      "78                NaN       2.0           NaN                  NaN   \n",
      "\n",
      "    Intelligence Kid Friendly Pet Friendly Potential for Playfulness  \\\n",
      "62           NaN          4.0          4.0                       4.0   \n",
      "63           NaN          4.0          4.0                       4.0   \n",
      "64           NaN          3.0          4.0                       3.0   \n",
      "65           NaN          NaN          NaN                       NaN   \n",
      "67           NaN          4.0          3.0                       4.0   \n",
      "70           NaN          4.0          4.0                       3.0   \n",
      "71           NaN          2.0          2.0                       1.0   \n",
      "72           NaN          3.0          3.0                       NaN   \n",
      "73           NaN          4.0          4.0                       5.0   \n",
      "74           NaN          4.0          4.0                       NaN   \n",
      "76           NaN          NaN          NaN                       NaN   \n",
      "78           NaN          5.0          4.0                       4.0   \n",
      "\n",
      "   Friendly Toward Strangers Tendency to Vocalize  \n",
      "62                       4.0                  5.0  \n",
      "63                       4.0                  1.0  \n",
      "64                       3.0                  5.0  \n",
      "65                       NaN                  NaN  \n",
      "67                       2.0                  2.0  \n",
      "70                       3.0                  NaN  \n",
      "71                       2.0                  NaN  \n",
      "72                       2.0                  5.0  \n",
      "73                       4.0                  5.0  \n",
      "74                       2.0                  4.0  \n",
      "76                       NaN                  1.0  \n",
      "78                       NaN                  2.0  \n",
      "\n",
      "[12 rows x 21 columns]\n"
     ]
    }
   ],
   "source": [
    "controllaValoriNulli('intelligence')"
   ],
   "metadata": {
    "collapsed": false
   }
  },
  {
   "cell_type": "code",
   "execution_count": 43,
   "outputs": [],
   "source": [
    "#Intelligence ha meno valori, quindi elimino quella colonna\n",
    "gatti = gatti.drop(columns=['Intelligence'])"
   ],
   "metadata": {
    "collapsed": false
   }
  },
  {
   "cell_type": "markdown",
   "source": [
    "<h4> Attributi <em>children_friendly</em> e <em>Kid Friendly</em></h4>"
   ],
   "metadata": {
    "collapsed": false
   }
  },
  {
   "cell_type": "code",
   "execution_count": 44,
   "outputs": [
    {
     "name": "stdout",
     "output_type": "stream",
     "text": [
      "5.0\n",
      "5.0\n"
     ]
    }
   ],
   "source": [
    "#Vedo la prima riga\n",
    "print(gatti.iloc[0]['children_friendly'])\n",
    "print(gatti.iloc[0]['Kid Friendly'])"
   ],
   "metadata": {
    "collapsed": false
   }
  },
  {
   "cell_type": "code",
   "execution_count": 45,
   "outputs": [
    {
     "name": "stdout",
     "output_type": "stream",
     "text": [
      "Valori presenti nella children_friendly: 62\n",
      "Valori presenti nella Kid Friendly: 76\n",
      "Valori nulli in children_friendly: 17\n",
      "Valori nulli in Kid Friendly: 32\n"
     ]
    }
   ],
   "source": [
    "contaValoriNulliENon('children_friendly', 'Kid Friendly')"
   ],
   "metadata": {
    "collapsed": false
   }
  },
  {
   "cell_type": "code",
   "execution_count": 46,
   "outputs": [
    {
     "name": "stdout",
     "output_type": "stream",
     "text": [
      "1 - Modificata la razza 'American Curl' in 'gatti.csv'.\n",
      "2 - Modificata la razza 'Balinese' in 'gatti.csv'.\n",
      "3 - Modificata la razza 'Chartreux' in 'gatti.csv'.\n",
      "4 - Modificata la razza 'Cymric' in 'gatti.csv'.\n",
      "5 - Modificata la razza 'Egyptian Mau' in 'gatti.csv'.\n",
      "6 - Modificata la razza 'European Burmese' in 'gatti.csv'.\n",
      "7 - Modificata la razza 'Exotic' in 'gatti.csv'.\n",
      "8 - Modificata la razza 'Havana Brown' in 'gatti.csv'.\n",
      "9 - Modificata la razza 'Himalayan' in 'gatti.csv'.\n",
      "10 - Modificata la razza 'Korat' in 'gatti.csv'.\n",
      "11 - Modificata la razza 'LaPerm' in 'gatti.csv'.\n",
      "12 - Modificata la razza 'Norwegian Forest' in 'gatti.csv'.\n",
      "13 - Modificata la razza 'Ocicat' in 'gatti.csv'.\n",
      "14 - Modificata la razza 'Ragamuffin' in 'gatti.csv'.\n",
      "15 - Modificata la razza 'Selkirk Rex' in 'gatti.csv'.\n"
     ]
    }
   ],
   "source": [
    "aggiornaValori('Kid Friendly', 'children_friendly')"
   ],
   "metadata": {
    "collapsed": false
   }
  },
  {
   "cell_type": "code",
   "execution_count": 47,
   "outputs": [
    {
     "name": "stdout",
     "output_type": "stream",
     "text": [
      "Istanze con valori nulli o vuoti in children_friendly:\n",
      "             Breed length origin  min_life_expectancy  max_life_expectancy  \\\n",
      "65  Chinese Li Hua    NaN    NaN                  NaN                  NaN   \n",
      "76        Oriental    NaN    NaN                  NaN                  NaN   \n",
      "\n",
      "    min_weight  max_weight  family_friendly  shedding  general_health  \\\n",
      "65         NaN         NaN              NaN       NaN             NaN   \n",
      "76         NaN         NaN              NaN       NaN             NaN   \n",
      "\n",
      "    playfulness  children_friendly  grooming  intelligence  \\\n",
      "65          NaN                NaN       NaN           NaN   \n",
      "76          NaN                NaN       NaN           NaN   \n",
      "\n",
      "    other_pets_friendly Kid Friendly Pet Friendly Potential for Playfulness  \\\n",
      "65                  NaN          NaN          NaN                       NaN   \n",
      "76                  NaN          NaN          NaN                       NaN   \n",
      "\n",
      "   Friendly Toward Strangers Tendency to Vocalize  \n",
      "65                       NaN                  NaN  \n",
      "76                       NaN                  1.0  \n"
     ]
    }
   ],
   "source": [
    "controllaValoriNulli('children_friendly')"
   ],
   "metadata": {
    "collapsed": false
   }
  },
  {
   "cell_type": "code",
   "execution_count": 48,
   "outputs": [],
   "source": [
    "#Kid Friendly ha meno valori, quindi elimino quella colonna\n",
    "gatti = gatti.drop(columns=['Kid Friendly'])"
   ],
   "metadata": {
    "collapsed": false
   }
  },
  {
   "cell_type": "markdown",
   "source": [
    "<h4> Attributi <em>other_pets_friendly</em> e <em>Pet Friendly</em></h4>"
   ],
   "metadata": {
    "collapsed": false
   }
  },
  {
   "cell_type": "code",
   "execution_count": 49,
   "outputs": [
    {
     "name": "stdout",
     "output_type": "stream",
     "text": [
      "5.0\n",
      "5.0\n"
     ]
    }
   ],
   "source": [
    "#Vedo la prima riga\n",
    "print(gatti.iloc[0]['other_pets_friendly'])\n",
    "print(gatti.iloc[0]['Pet Friendly'])"
   ],
   "metadata": {
    "collapsed": false
   }
  },
  {
   "cell_type": "code",
   "execution_count": 50,
   "outputs": [
    {
     "name": "stdout",
     "output_type": "stream",
     "text": [
      "Valori presenti nella other_pets_friendly: 62\n",
      "Valori presenti nella Pet Friendly: 75\n",
      "Valori nulli in other_pets_friendly: 17\n",
      "Valori nulli in Pet Friendly: 33\n"
     ]
    }
   ],
   "source": [
    "contaValoriNulliENon('other_pets_friendly', 'Pet Friendly')"
   ],
   "metadata": {
    "collapsed": false
   }
  },
  {
   "cell_type": "code",
   "execution_count": 51,
   "outputs": [
    {
     "name": "stdout",
     "output_type": "stream",
     "text": [
      "1 - Modificata la razza 'American Curl' in 'gatti.csv'.\n",
      "2 - Modificata la razza 'Balinese' in 'gatti.csv'.\n",
      "3 - Modificata la razza 'Chartreux' in 'gatti.csv'.\n",
      "4 - Modificata la razza 'Cymric' in 'gatti.csv'.\n",
      "5 - Modificata la razza 'Egyptian Mau' in 'gatti.csv'.\n",
      "6 - Modificata la razza 'European Burmese' in 'gatti.csv'.\n",
      "7 - Modificata la razza 'Exotic' in 'gatti.csv'.\n",
      "8 - Modificata la razza 'Havana Brown' in 'gatti.csv'.\n",
      "9 - Modificata la razza 'Himalayan' in 'gatti.csv'.\n",
      "10 - Modificata la razza 'Korat' in 'gatti.csv'.\n",
      "11 - Modificata la razza 'LaPerm' in 'gatti.csv'.\n",
      "12 - Modificata la razza 'Norwegian Forest' in 'gatti.csv'.\n",
      "13 - Modificata la razza 'Ocicat' in 'gatti.csv'.\n",
      "14 - Modificata la razza 'Ragamuffin' in 'gatti.csv'.\n",
      "15 - Modificata la razza 'Selkirk Rex' in 'gatti.csv'.\n"
     ]
    }
   ],
   "source": [
    "aggiornaValori('Pet Friendly', 'other_pets_friendly')"
   ],
   "metadata": {
    "collapsed": false
   }
  },
  {
   "cell_type": "code",
   "execution_count": 52,
   "outputs": [
    {
     "name": "stdout",
     "output_type": "stream",
     "text": [
      "Istanze con valori nulli o vuoti in other_pets_friendly:\n",
      "             Breed length origin  min_life_expectancy  max_life_expectancy  \\\n",
      "65  Chinese Li Hua    NaN    NaN                  NaN                  NaN   \n",
      "76        Oriental    NaN    NaN                  NaN                  NaN   \n",
      "\n",
      "    min_weight  max_weight  family_friendly  shedding  general_health  \\\n",
      "65         NaN         NaN              NaN       NaN             NaN   \n",
      "76         NaN         NaN              NaN       NaN             NaN   \n",
      "\n",
      "    playfulness  children_friendly  grooming  intelligence  \\\n",
      "65          NaN                NaN       NaN           NaN   \n",
      "76          NaN                NaN       NaN           NaN   \n",
      "\n",
      "    other_pets_friendly Pet Friendly Potential for Playfulness  \\\n",
      "65                  NaN          NaN                       NaN   \n",
      "76                  NaN          NaN                       NaN   \n",
      "\n",
      "   Friendly Toward Strangers Tendency to Vocalize  \n",
      "65                       NaN                  NaN  \n",
      "76                       NaN                  1.0  \n"
     ]
    }
   ],
   "source": [
    "controllaValoriNulli('other_pets_friendly')"
   ],
   "metadata": {
    "collapsed": false
   }
  },
  {
   "cell_type": "code",
   "execution_count": 53,
   "outputs": [],
   "source": [
    "#Pet Friendly ha meno valori, quindi elimino quella colonna\n",
    "gatti = gatti.drop(columns=['Pet Friendly'])"
   ],
   "metadata": {
    "collapsed": false
   }
  },
  {
   "cell_type": "markdown",
   "source": [
    "<h4> Attributi <em>playfulness</em> e <em>Potential for Playfulness</em></h4>"
   ],
   "metadata": {
    "collapsed": false
   }
  },
  {
   "cell_type": "code",
   "execution_count": 54,
   "outputs": [
    {
     "name": "stdout",
     "output_type": "stream",
     "text": [
      "5.0\n",
      "5.0\n"
     ]
    }
   ],
   "source": [
    "#Vedo la prima riga\n",
    "print(gatti.iloc[0]['playfulness'])\n",
    "print(gatti.iloc[0]['Potential for Playfulness'])"
   ],
   "metadata": {
    "collapsed": false
   }
  },
  {
   "cell_type": "code",
   "execution_count": 55,
   "outputs": [
    {
     "name": "stdout",
     "output_type": "stream",
     "text": [
      "Valori presenti nella playfulness: 62\n",
      "Valori presenti nella Potential for Playfulness: 72\n",
      "Valori nulli in playfulness: 17\n",
      "Valori nulli in Potential for Playfulness: 36\n"
     ]
    }
   ],
   "source": [
    "contaValoriNulliENon('playfulness', 'Potential for Playfulness')"
   ],
   "metadata": {
    "collapsed": false
   }
  },
  {
   "cell_type": "code",
   "execution_count": 56,
   "outputs": [
    {
     "name": "stdout",
     "output_type": "stream",
     "text": [
      "1 - Modificata la razza 'American Curl' in 'gatti.csv'.\n",
      "2 - Modificata la razza 'Balinese' in 'gatti.csv'.\n",
      "3 - Modificata la razza 'Chartreux' in 'gatti.csv'.\n",
      "4 - Modificata la razza 'Egyptian Mau' in 'gatti.csv'.\n",
      "5 - Modificata la razza 'European Burmese' in 'gatti.csv'.\n",
      "6 - Modificata la razza 'Exotic' in 'gatti.csv'.\n",
      "7 - Modificata la razza 'Havana Brown' in 'gatti.csv'.\n",
      "8 - Modificata la razza 'Himalayan' in 'gatti.csv'.\n",
      "9 - Modificata la razza 'LaPerm' in 'gatti.csv'.\n",
      "10 - Modificata la razza 'Ragamuffin' in 'gatti.csv'.\n",
      "11 - Modificata la razza 'Selkirk Rex' in 'gatti.csv'.\n"
     ]
    }
   ],
   "source": [
    "aggiornaValori('Potential for Playfulness', 'playfulness')"
   ],
   "metadata": {
    "collapsed": false
   }
  },
  {
   "cell_type": "code",
   "execution_count": 57,
   "outputs": [
    {
     "name": "stdout",
     "output_type": "stream",
     "text": [
      "Istanze con valori nulli o vuoti in playfulness:\n",
      "               Breed length origin  min_life_expectancy  max_life_expectancy  \\\n",
      "65    Chinese Li Hua    NaN    NaN                  NaN                  NaN   \n",
      "66            Cymric    NaN    NaN                  NaN                  NaN   \n",
      "72             Korat    NaN    NaN                  NaN                  NaN   \n",
      "74  Norwegian Forest    NaN    NaN                  NaN                  NaN   \n",
      "75            Ocicat    NaN    NaN                  NaN                  NaN   \n",
      "76          Oriental    NaN    NaN                  NaN                  NaN   \n",
      "\n",
      "    min_weight  max_weight  family_friendly  shedding  general_health  \\\n",
      "65         NaN         NaN              NaN       NaN             NaN   \n",
      "66         NaN         NaN              5.0       4.0             3.0   \n",
      "72         NaN         NaN              5.0       1.0             4.0   \n",
      "74         NaN         NaN              2.0       4.0             2.0   \n",
      "75         NaN         NaN              4.0       2.0             3.0   \n",
      "76         NaN         NaN              NaN       NaN             NaN   \n",
      "\n",
      "    playfulness  children_friendly  grooming  intelligence  \\\n",
      "65          NaN                NaN       NaN           NaN   \n",
      "66          NaN                3.0       2.0           4.0   \n",
      "72          NaN                3.0       5.0           NaN   \n",
      "74          NaN                4.0       2.0           NaN   \n",
      "75          NaN                4.0       4.0           4.0   \n",
      "76          NaN                NaN       NaN           NaN   \n",
      "\n",
      "    other_pets_friendly Potential for Playfulness Friendly Toward Strangers  \\\n",
      "65                  NaN                       NaN                       NaN   \n",
      "66                  3.0                       NaN                       4.0   \n",
      "72                  3.0                       NaN                       2.0   \n",
      "74                  4.0                       NaN                       2.0   \n",
      "75                  3.0                       NaN                       4.0   \n",
      "76                  NaN                       NaN                       NaN   \n",
      "\n",
      "   Tendency to Vocalize  \n",
      "65                  NaN  \n",
      "66                  2.0  \n",
      "72                  5.0  \n",
      "74                  4.0  \n",
      "75                  2.0  \n",
      "76                  1.0  \n"
     ]
    }
   ],
   "source": [
    "controllaValoriNulli('playfulness')"
   ],
   "metadata": {
    "collapsed": false
   }
  },
  {
   "cell_type": "code",
   "execution_count": 58,
   "outputs": [],
   "source": [
    "#Potential for Playfulness ha meno valori, quindi elimino quella colonna\n",
    "gatti = gatti.drop(columns=['Potential for Playfulness'])"
   ],
   "metadata": {
    "collapsed": false
   }
  },
  {
   "cell_type": "markdown",
   "source": [
    "<h3> Rinominazione delle colonne per maggiore coerenza </h3>"
   ],
   "metadata": {
    "collapsed": false
   }
  },
  {
   "cell_type": "code",
   "execution_count": 59,
   "outputs": [],
   "source": [
    "# Rinomino la colonna 'Friendly Toward Strangers' in 'friendly_toward_strangers'\n",
    "gatti = gatti.rename(columns={'Friendly Toward Strangers': 'friendly_toward_strangers'})"
   ],
   "metadata": {
    "collapsed": false
   }
  },
  {
   "cell_type": "code",
   "execution_count": 60,
   "outputs": [],
   "source": [
    "# Rinomino la colonna 'Tendency to Vocalize' in 'tendency_to_vocalize'\n",
    "gatti = gatti.rename(columns={'Tendency to Vocalize': 'tendency_to_vocalize'})"
   ],
   "metadata": {
    "collapsed": false
   }
  },
  {
   "cell_type": "code",
   "execution_count": 61,
   "outputs": [
    {
     "name": "stdout",
     "output_type": "stream",
     "text": [
      "                Breed           length                    origin  \\\n",
      "0          Abyssinian  12 to 16 inches            Southeast Asia   \n",
      "1              Aegean           Medium                    Greece   \n",
      "2    American Bobtail           Medium  United States and Canada   \n",
      "3  American Shorthair  12 to 15 inches             United States   \n",
      "4   American Wirehair  Medium to large             United States   \n",
      "\n",
      "   min_life_expectancy  max_life_expectancy  min_weight  max_weight  \\\n",
      "0                  9.0                 15.0         6.0        10.0   \n",
      "1                  9.0                 10.0         7.0        10.0   \n",
      "2                 11.0                 15.0         8.0        13.0   \n",
      "3                 15.0                 20.0         7.0        12.0   \n",
      "4                 14.0                 18.0         8.0        15.0   \n",
      "\n",
      "   family_friendly  shedding  general_health  playfulness  children_friendly  \\\n",
      "0              3.0       3.0             2.0          5.0                5.0   \n",
      "1              5.0       3.0             4.0          4.0                5.0   \n",
      "2              4.0       4.0             4.0          4.0                4.0   \n",
      "3              3.0       3.0             4.0          2.0                4.0   \n",
      "4              4.0       3.0             5.0          3.0                4.0   \n",
      "\n",
      "   grooming  intelligence  other_pets_friendly friendly_toward_strangers  \\\n",
      "0       3.0           5.0                  5.0                       NaN   \n",
      "1       4.0           4.0                  3.0                             \n",
      "2       3.0           4.0                  4.0                       4.0   \n",
      "3       4.0           4.0                  3.0                       4.0   \n",
      "4       5.0           4.0                  3.0                       3.0   \n",
      "\n",
      "  tendency_to_vocalize  \n",
      "0                  NaN  \n",
      "1                       \n",
      "2                  3.0  \n",
      "3                  NaN  \n",
      "4                  NaN  \n"
     ]
    }
   ],
   "source": [
    "print(gatti.head())"
   ],
   "metadata": {
    "collapsed": false
   }
  },
  {
   "cell_type": "markdown",
   "source": [
    "<p> Controllo eventuali righe con valori nulli e colonne con valori nulli, in modo che vengono eliminate</p>"
   ],
   "metadata": {
    "collapsed": false
   }
  },
  {
   "cell_type": "code",
   "execution_count": 62,
   "outputs": [
    {
     "name": "stdout",
     "output_type": "stream",
     "text": [
      "Righe con tutti valori nulli:\n",
      "Empty DataFrame\n",
      "Columns: [Breed, length, origin, min_life_expectancy, max_life_expectancy, min_weight, max_weight, family_friendly, shedding, general_health, playfulness, children_friendly, grooming, intelligence, other_pets_friendly, friendly_toward_strangers, tendency_to_vocalize]\n",
      "Index: []\n"
     ]
    }
   ],
   "source": [
    "# Identificare righe con tutti valori nulli\n",
    "righe_tutti_nulli = gatti.isnull().all(axis=1)\n",
    "print(\"Righe con tutti valori nulli:\")\n",
    "print(gatti[righe_tutti_nulli])"
   ],
   "metadata": {
    "collapsed": false
   }
  },
  {
   "cell_type": "code",
   "execution_count": 63,
   "outputs": [
    {
     "name": "stdout",
     "output_type": "stream",
     "text": [
      "Colonne con tutti valori nulli:\n",
      "Empty DataFrame\n",
      "Columns: []\n",
      "Index: [0, 1, 2, 3, 4, 5, 6, 7, 8, 9, 10, 11, 12, 13, 14, 15, 16, 17, 18, 19, 20, 21, 22, 23, 24, 25, 26, 27, 28, 29, 30, 31, 32, 33, 34, 35, 36, 37, 38, 39, 40, 41, 42, 43, 44, 45, 46, 47, 48, 49, 50, 51, 52, 53, 54, 55, 56, 57, 58, 59, 60, 61, 62, 63, 64, 65, 66, 67, 68, 69, 70, 71, 72, 73, 74, 75, 76, 77, 78]\n",
      "\n",
      "[79 rows x 0 columns]\n"
     ]
    }
   ],
   "source": [
    "# Identificare colonne con tutti valori nulli\n",
    "colonne_tutti_nulli = gatti.isnull().all(axis=0)\n",
    "print(\"Colonne con tutti valori nulli:\")\n",
    "print(gatti.loc[:, colonne_tutti_nulli])"
   ],
   "metadata": {
    "collapsed": false
   }
  },
  {
   "cell_type": "markdown",
   "source": [
    "Sono state apportate le seguenti modifiche:\n",
    "- Bengal Cats, British Shorthair, Persian, Ragdoll Cats: è stata modificata la lunghezza togliendo 'not including the tail' e portando i valori come gli altri record\n",
    "- Bombay, Maine Coon e Pixie Bob, Ragdoll cats: è stata modificata l'origine, memorizzando solo USA\n",
    "- Devon Rex: come per Bombay, ma si memorizza solo England\n",
    "- Foldex: come per Bombay, si memorizza solo Canada\n",
    "- Manx: come per Bombay, si memorizza solo UK\n",
    "Altre razze non si tiene traccia, ma si tiene traccia di altri cambiamenti:\n",
    "- Chinese Li Hua con tutti i valori nulli si elimina\n",
    "- Oriental ha solo il valore per l'ultimo attributo, quindi si elimina"
   ],
   "metadata": {
    "collapsed": false
   }
  },
  {
   "cell_type": "code",
   "execution_count": 65,
   "outputs": [],
   "source": [
    "gatti.to_csv(\"../dataset/cleaned_datasets/cat_breeds.csv\", index=False)"
   ],
   "metadata": {
    "collapsed": false
   }
  }
 ],
 "metadata": {
  "kernelspec": {
   "display_name": "Python 3",
   "language": "python",
   "name": "python3"
  },
  "language_info": {
   "codemirror_mode": {
    "name": "ipython",
    "version": 2
   },
   "file_extension": ".py",
   "mimetype": "text/x-python",
   "name": "python",
   "nbconvert_exporter": "python",
   "pygments_lexer": "ipython2",
   "version": "2.7.6"
  }
 },
 "nbformat": 4,
 "nbformat_minor": 0
}
