{
 "cells": [
  {
   "metadata": {},
   "cell_type": "markdown",
   "source": [
    "# Data Cleaning Dogs Datasets "
   ],
   "id": "713c354e94ebba0c"
  },
  {
   "metadata": {
    "ExecuteTime": {
     "end_time": "2024-05-31T15:36:50.734506Z",
     "start_time": "2024-05-31T15:36:50.355822Z"
    }
   },
   "cell_type": "code",
   "source": [
    "import pandas as pd\n",
    "import numpy as np"
   ],
   "id": "87a9558449feb297",
   "outputs": [],
   "execution_count": 101
  },
  {
   "metadata": {
    "ExecuteTime": {
     "end_time": "2024-05-31T16:00:24.120501Z",
     "start_time": "2024-05-31T16:00:24.100013Z"
    }
   },
   "cell_type": "code",
   "source": [
    "df_dog_separate = pd.read_csv('separate-datasets/dog_breeds.csv')\n",
    "\n",
    "# delete tuple where are all null value (Korean Jindo Dog, Xoloitzcuintli) - manual\n",
    "columns = df_dog_separate.columns\n",
    "\n",
    "# check NaN values\n",
    "for index, row in df_dog_separate.iterrows():\n",
    "    for column in columns:\n",
    "        if pd.isna(row[column]):\n",
    "            print(f\"Index {index} has NaN values in column {column}\")\n",
    "            \n",
    "df_dog_separate.columns"
   ],
   "id": "1d2ef1e1c08beb9d",
   "outputs": [
    {
     "data": {
      "text/plain": "Index(['Breed', 'Adaptability', 'All Around Friendliness', 'Exercise Needs',\n       'Health Grooming', 'Trainability', 'Adapts Well to Apartment Living',\n       'Affectionate with Family', 'Amount Of Shedding', 'Dog Friendly',\n       'Drooling Potential', 'Easy To Groom', 'Easy To Train', 'Energy Level',\n       'Exercise Needs.1', 'Friendly Toward Strangers', 'General Health',\n       'Good For Novice Owners', 'Incredibly Kid Friendly Dogs',\n       'Intelligence', 'Intensity', 'Potential For Mouthiness',\n       'Potential For Playfulness', 'Potential For Weight Gain', 'Prey Drive',\n       'Sensitivity Level', 'Size', 'Tendency To Bark Or Howl',\n       'Tolerates Being Alone', 'Tolerates Cold Weather',\n       'Tolerates Hot Weather', 'Wanderlust Potential'],\n      dtype='object')"
     },
     "execution_count": 102,
     "metadata": {},
     "output_type": "execute_result"
    }
   ],
   "execution_count": 102
  },
  {
   "metadata": {
    "ExecuteTime": {
     "end_time": "2024-05-31T16:01:52.307256Z",
     "start_time": "2024-05-31T16:01:52.287574Z"
    }
   },
   "cell_type": "code",
   "source": [
    "df_dog_ranked = pd.read_csv('original-datasets/cani.csv')\n",
    "df_dog_ranked.columns"
   ],
   "id": "be40806f9a17bae7",
   "outputs": [
    {
     "data": {
      "text/plain": "Index(['Breed', 'type', 'score', 'popularity ranking', 'size', 'intelligence',\n       'congential ailments', 'score for kids', 'size.1', '$LIFETIME COST',\n       'INTELLIGENCE RANK', 'INTELLIGENCE %', 'LONGEVITY(YEARS)',\n       'NUMBER OF GENETIC AILMENTS', 'GENETIC AILMENTS', 'PURCHASE PRICE',\n       'FOOD COSTS PER YEAR', 'GROOMING FREQUNCY', 'SUITABILITY FOR CHILDREN'],\n      dtype='object')"
     },
     "execution_count": 103,
     "metadata": {},
     "output_type": "execute_result"
    }
   ],
   "execution_count": 103
  },
  {
   "cell_type": "code",
   "execution_count": 104,
   "outputs": [],
   "source": [
    "# delete duplicate column in df_dog_separate\n",
    "df_dog_separate = df_dog_separate.drop(labels=[\"Exercise Needs.1\"], axis=1)\n",
    "\n",
    "# delete duplicate column in df_dog_ranked\n",
    "df_dog_ranked = df_dog_ranked.drop(labels=[\"GENETIC AILMENTS\"], axis=1)"
   ],
   "metadata": {
    "collapsed": false
   }
  },
  {
   "cell_type": "code",
   "execution_count": 105,
   "outputs": [
    {
     "data": {
      "text/plain": "              Breed  Adaptability  All Around Friendliness  Exercise Needs  \\\n0     Affenpinscher           3.0                      3.0             4.0   \n1      Afghan Hound           4.0                      4.0             4.0   \n2  Airedale Terrier           2.0                      4.0             5.0   \n3             Akita           3.0                      2.0             4.0   \n4  Alaskan Klee Kai           3.0                      3.0             4.0   \n\n   Health Grooming  Trainability  Adapts Well to Apartment Living  \\\n0              2.0           3.0                              5.0   \n1              2.0           3.0                              5.0   \n2              3.0           5.0                              1.0   \n3              4.0           4.0                              2.0   \n4              3.0           4.0                              3.0   \n\n   Affectionate with Family  Amount Of Shedding  Dog Friendly  ...  \\\n0                       5.0                 1.0           4.0  ...   \n1                       5.0                 4.0           4.0  ...   \n2                       4.0                 2.0           4.0  ...   \n3                       5.0                 5.0           1.0  ...   \n4                       4.0                 4.0           2.0  ...   \n\n   Potential For Playfulness  Potential For Weight Gain  Prey Drive  \\\n0                        4.0                        3.0         3.0   \n1                        4.0                        1.0         5.0   \n2                        5.0                        4.0         5.0   \n3                        5.0                        4.0         4.0   \n4                        4.0                        2.0         5.0   \n\n   Sensitivity Level  Size  Tendency To Bark Or Howl  Tolerates Being Alone  \\\n0                3.0   1.0                       2.0                    1.0   \n1                5.0   4.0                       2.0                    2.0   \n2                3.0   3.0                       4.0                    2.0   \n3                5.0   4.0                       5.0                    1.0   \n4                4.0   2.0                       3.0                    2.0   \n\n   Tolerates Cold Weather  Tolerates Hot Weather  Wanderlust Potential  \n0                     3.0                    3.0                   2.0  \n1                     5.0                    5.0                   5.0  \n2                     3.0                    3.0                   4.0  \n3                     5.0                    2.0                   4.0  \n4                     5.0                    2.0                   4.0  \n\n[5 rows x 31 columns]",
      "text/html": "<div>\n<style scoped>\n    .dataframe tbody tr th:only-of-type {\n        vertical-align: middle;\n    }\n\n    .dataframe tbody tr th {\n        vertical-align: top;\n    }\n\n    .dataframe thead th {\n        text-align: right;\n    }\n</style>\n<table border=\"1\" class=\"dataframe\">\n  <thead>\n    <tr style=\"text-align: right;\">\n      <th></th>\n      <th>Breed</th>\n      <th>Adaptability</th>\n      <th>All Around Friendliness</th>\n      <th>Exercise Needs</th>\n      <th>Health Grooming</th>\n      <th>Trainability</th>\n      <th>Adapts Well to Apartment Living</th>\n      <th>Affectionate with Family</th>\n      <th>Amount Of Shedding</th>\n      <th>Dog Friendly</th>\n      <th>...</th>\n      <th>Potential For Playfulness</th>\n      <th>Potential For Weight Gain</th>\n      <th>Prey Drive</th>\n      <th>Sensitivity Level</th>\n      <th>Size</th>\n      <th>Tendency To Bark Or Howl</th>\n      <th>Tolerates Being Alone</th>\n      <th>Tolerates Cold Weather</th>\n      <th>Tolerates Hot Weather</th>\n      <th>Wanderlust Potential</th>\n    </tr>\n  </thead>\n  <tbody>\n    <tr>\n      <th>0</th>\n      <td>Affenpinscher</td>\n      <td>3.0</td>\n      <td>3.0</td>\n      <td>4.0</td>\n      <td>2.0</td>\n      <td>3.0</td>\n      <td>5.0</td>\n      <td>5.0</td>\n      <td>1.0</td>\n      <td>4.0</td>\n      <td>...</td>\n      <td>4.0</td>\n      <td>3.0</td>\n      <td>3.0</td>\n      <td>3.0</td>\n      <td>1.0</td>\n      <td>2.0</td>\n      <td>1.0</td>\n      <td>3.0</td>\n      <td>3.0</td>\n      <td>2.0</td>\n    </tr>\n    <tr>\n      <th>1</th>\n      <td>Afghan Hound</td>\n      <td>4.0</td>\n      <td>4.0</td>\n      <td>4.0</td>\n      <td>2.0</td>\n      <td>3.0</td>\n      <td>5.0</td>\n      <td>5.0</td>\n      <td>4.0</td>\n      <td>4.0</td>\n      <td>...</td>\n      <td>4.0</td>\n      <td>1.0</td>\n      <td>5.0</td>\n      <td>5.0</td>\n      <td>4.0</td>\n      <td>2.0</td>\n      <td>2.0</td>\n      <td>5.0</td>\n      <td>5.0</td>\n      <td>5.0</td>\n    </tr>\n    <tr>\n      <th>2</th>\n      <td>Airedale Terrier</td>\n      <td>2.0</td>\n      <td>4.0</td>\n      <td>5.0</td>\n      <td>3.0</td>\n      <td>5.0</td>\n      <td>1.0</td>\n      <td>4.0</td>\n      <td>2.0</td>\n      <td>4.0</td>\n      <td>...</td>\n      <td>5.0</td>\n      <td>4.0</td>\n      <td>5.0</td>\n      <td>3.0</td>\n      <td>3.0</td>\n      <td>4.0</td>\n      <td>2.0</td>\n      <td>3.0</td>\n      <td>3.0</td>\n      <td>4.0</td>\n    </tr>\n    <tr>\n      <th>3</th>\n      <td>Akita</td>\n      <td>3.0</td>\n      <td>2.0</td>\n      <td>4.0</td>\n      <td>4.0</td>\n      <td>4.0</td>\n      <td>2.0</td>\n      <td>5.0</td>\n      <td>5.0</td>\n      <td>1.0</td>\n      <td>...</td>\n      <td>5.0</td>\n      <td>4.0</td>\n      <td>4.0</td>\n      <td>5.0</td>\n      <td>4.0</td>\n      <td>5.0</td>\n      <td>1.0</td>\n      <td>5.0</td>\n      <td>2.0</td>\n      <td>4.0</td>\n    </tr>\n    <tr>\n      <th>4</th>\n      <td>Alaskan Klee Kai</td>\n      <td>3.0</td>\n      <td>3.0</td>\n      <td>4.0</td>\n      <td>3.0</td>\n      <td>4.0</td>\n      <td>3.0</td>\n      <td>4.0</td>\n      <td>4.0</td>\n      <td>2.0</td>\n      <td>...</td>\n      <td>4.0</td>\n      <td>2.0</td>\n      <td>5.0</td>\n      <td>4.0</td>\n      <td>2.0</td>\n      <td>3.0</td>\n      <td>2.0</td>\n      <td>5.0</td>\n      <td>2.0</td>\n      <td>4.0</td>\n    </tr>\n  </tbody>\n</table>\n<p>5 rows × 31 columns</p>\n</div>"
     },
     "execution_count": 105,
     "metadata": {},
     "output_type": "execute_result"
    }
   ],
   "source": [
    "df_dog_separate.head()"
   ],
   "metadata": {
    "collapsed": false
   }
  },
  {
   "cell_type": "code",
   "execution_count": 106,
   "outputs": [
    {
     "data": {
      "text/plain": "                    Breed      type  score  popularity ranking  size  \\\n0          Border Terrier   terrier   3.61                  61     1   \n1           Cairn Terrier   terrier   3.53                  48     1   \n2          Siberian Husky   working   3.22                  16     2   \n3  Welsh Springer Spaniel  sporting   3.34                  81     2   \n4  English Cocker Spaniel  sporting   3.33                  51     2   \n\n    intelligence        congential ailments  score for kids  size.1  \\\n0  Above average                       none            4.99   small   \n1  Above average  lion jaw,heart problems              4.91   small   \n2        Average                       none            4.72  medium   \n3  Above average               hip problems            4.71  medium   \n4      Excellent                       none            4.70  medium   \n\n  $LIFETIME COST  INTELLIGENCE RANK INTELLIGENCE %  LONGEVITY(YEARS)  \\\n0       $22,638                  30            70%             14.00   \n1       $21,992                  35            61%             13.84   \n2       $22,049                  45            45%             12.58   \n3       $20,224                  31            69%             12.49   \n4       $18,993                  18            82%             11.66   \n\n   NUMBER OF GENETIC AILMENTS PURCHASE PRICE FOOD COSTS PER YEAR  \\\n0                           0          $833                $324    \n1                           2          $435                $324    \n2                           0          $650                $466    \n3                           1          $750                $324    \n4                           0          $800                $324    \n\n     GROOMING FREQUNCY  SUITABILITY FOR CHILDREN  \n0          Once a week                         1  \n1          Once a week                         1  \n2  Once in a few weeks                         1  \n3          Once a week                         1  \n4          Once a week                         1  ",
      "text/html": "<div>\n<style scoped>\n    .dataframe tbody tr th:only-of-type {\n        vertical-align: middle;\n    }\n\n    .dataframe tbody tr th {\n        vertical-align: top;\n    }\n\n    .dataframe thead th {\n        text-align: right;\n    }\n</style>\n<table border=\"1\" class=\"dataframe\">\n  <thead>\n    <tr style=\"text-align: right;\">\n      <th></th>\n      <th>Breed</th>\n      <th>type</th>\n      <th>score</th>\n      <th>popularity ranking</th>\n      <th>size</th>\n      <th>intelligence</th>\n      <th>congential ailments</th>\n      <th>score for kids</th>\n      <th>size.1</th>\n      <th>$LIFETIME COST</th>\n      <th>INTELLIGENCE RANK</th>\n      <th>INTELLIGENCE %</th>\n      <th>LONGEVITY(YEARS)</th>\n      <th>NUMBER OF GENETIC AILMENTS</th>\n      <th>PURCHASE PRICE</th>\n      <th>FOOD COSTS PER YEAR</th>\n      <th>GROOMING FREQUNCY</th>\n      <th>SUITABILITY FOR CHILDREN</th>\n    </tr>\n  </thead>\n  <tbody>\n    <tr>\n      <th>0</th>\n      <td>Border Terrier</td>\n      <td>terrier</td>\n      <td>3.61</td>\n      <td>61</td>\n      <td>1</td>\n      <td>Above average</td>\n      <td>none</td>\n      <td>4.99</td>\n      <td>small</td>\n      <td>$22,638</td>\n      <td>30</td>\n      <td>70%</td>\n      <td>14.00</td>\n      <td>0</td>\n      <td>$833</td>\n      <td>$324</td>\n      <td>Once a week</td>\n      <td>1</td>\n    </tr>\n    <tr>\n      <th>1</th>\n      <td>Cairn Terrier</td>\n      <td>terrier</td>\n      <td>3.53</td>\n      <td>48</td>\n      <td>1</td>\n      <td>Above average</td>\n      <td>lion jaw,heart problems</td>\n      <td>4.91</td>\n      <td>small</td>\n      <td>$21,992</td>\n      <td>35</td>\n      <td>61%</td>\n      <td>13.84</td>\n      <td>2</td>\n      <td>$435</td>\n      <td>$324</td>\n      <td>Once a week</td>\n      <td>1</td>\n    </tr>\n    <tr>\n      <th>2</th>\n      <td>Siberian Husky</td>\n      <td>working</td>\n      <td>3.22</td>\n      <td>16</td>\n      <td>2</td>\n      <td>Average</td>\n      <td>none</td>\n      <td>4.72</td>\n      <td>medium</td>\n      <td>$22,049</td>\n      <td>45</td>\n      <td>45%</td>\n      <td>12.58</td>\n      <td>0</td>\n      <td>$650</td>\n      <td>$466</td>\n      <td>Once in a few weeks</td>\n      <td>1</td>\n    </tr>\n    <tr>\n      <th>3</th>\n      <td>Welsh Springer Spaniel</td>\n      <td>sporting</td>\n      <td>3.34</td>\n      <td>81</td>\n      <td>2</td>\n      <td>Above average</td>\n      <td>hip problems</td>\n      <td>4.71</td>\n      <td>medium</td>\n      <td>$20,224</td>\n      <td>31</td>\n      <td>69%</td>\n      <td>12.49</td>\n      <td>1</td>\n      <td>$750</td>\n      <td>$324</td>\n      <td>Once a week</td>\n      <td>1</td>\n    </tr>\n    <tr>\n      <th>4</th>\n      <td>English Cocker Spaniel</td>\n      <td>sporting</td>\n      <td>3.33</td>\n      <td>51</td>\n      <td>2</td>\n      <td>Excellent</td>\n      <td>none</td>\n      <td>4.70</td>\n      <td>medium</td>\n      <td>$18,993</td>\n      <td>18</td>\n      <td>82%</td>\n      <td>11.66</td>\n      <td>0</td>\n      <td>$800</td>\n      <td>$324</td>\n      <td>Once a week</td>\n      <td>1</td>\n    </tr>\n  </tbody>\n</table>\n</div>"
     },
     "execution_count": 106,
     "metadata": {},
     "output_type": "execute_result"
    }
   ],
   "source": [
    "df_dog_ranked.head()"
   ],
   "metadata": {
    "collapsed": false
   }
  },
  {
   "cell_type": "code",
   "execution_count": 107,
   "outputs": [
    {
     "data": {
      "text/plain": "0     True\n1     True\n2     True\n3     True\n4     True\n      ... \n82    True\n83    True\n84    True\n85    True\n86    True\nName: Breed, Length: 87, dtype: bool"
     },
     "execution_count": 107,
     "metadata": {},
     "output_type": "execute_result"
    }
   ],
   "source": [
    "# check df_dog_ranked[\"Breeds\"] is subset of df_dog_separate[\"Breeds\"]\n",
    "breeds_sep = df_dog_separate[\"Breed\"]\n",
    "breeds_rank = df_dog_ranked[\"Breed\"]\n",
    "\n",
    "breeds_rank.isin(breeds_sep)"
   ],
   "metadata": {
    "collapsed": false
   }
  },
  {
   "cell_type": "code",
   "execution_count": 108,
   "outputs": [
    {
     "name": "stdout",
     "output_type": "stream",
     "text": [
      "German Shepherd\n"
     ]
    }
   ],
   "source": [
    "print(breeds_rank[72]) # this value is in breeds_sep but another name\n",
    "df_dog_ranked.loc[72, \"Breed\"] = \"German Shepherd Dog\""
   ],
   "metadata": {
    "collapsed": false
   }
  },
  {
   "metadata": {},
   "cell_type": "code",
   "outputs": [
    {
     "data": {
      "text/plain": "              Breed  Adaptability  All Around Friendliness  Exercise Needs  \\\n0     Affenpinscher           3.0                      3.0             4.0   \n1      Afghan Hound           4.0                      4.0             4.0   \n2  Airedale Terrier           2.0                      4.0             5.0   \n3             Akita           3.0                      2.0             4.0   \n4  Alaskan Klee Kai           3.0                      3.0             4.0   \n\n   Health Grooming  Trainability  Adapts Well to Apartment Living  \\\n0              2.0           3.0                              5.0   \n1              2.0           3.0                              5.0   \n2              3.0           5.0                              1.0   \n3              4.0           4.0                              2.0   \n4              3.0           4.0                              3.0   \n\n   Affectionate with Family  Amount Of Shedding  Dog Friendly  ...  \\\n0                       5.0                 1.0           4.0  ...   \n1                       5.0                 4.0           4.0  ...   \n2                       4.0                 2.0           4.0  ...   \n3                       5.0                 5.0           1.0  ...   \n4                       4.0                 4.0           2.0  ...   \n\n   Tolerates Hot Weather  Wanderlust Potential     type  congential ailments  \\\n0                    3.0                   2.0      toy                 none   \n1                    5.0                   5.0    hound                 none   \n2                    3.0                   4.0      NaN                  NaN   \n3                    2.0                   4.0  working         hip problems   \n4                    2.0                   4.0      NaN                  NaN   \n\n   $LIFETIME COST  LONGEVITY(YEARS)  NUMBER OF GENETIC AILMENTS  \\\n0        $18,333              11.42                           0   \n1        $24,077              11.92                           0   \n2             NaN               NaN                         NaN   \n3        $20,994              10.16                           1   \n4             NaN               NaN                         NaN   \n\n   PURCHASE PRICE  FOOD COSTS PER YEAR    GROOMING FREQUNCY  \n0           $510                 $324   Once in a few weeks  \n1           $890                 $710                 Daily  \n2             NaN                  NaN                  NaN  \n3         $1,202                 $710           Once a week  \n4             NaN                  NaN                  NaN  \n\n[5 rows x 39 columns]",
      "text/html": "<div>\n<style scoped>\n    .dataframe tbody tr th:only-of-type {\n        vertical-align: middle;\n    }\n\n    .dataframe tbody tr th {\n        vertical-align: top;\n    }\n\n    .dataframe thead th {\n        text-align: right;\n    }\n</style>\n<table border=\"1\" class=\"dataframe\">\n  <thead>\n    <tr style=\"text-align: right;\">\n      <th></th>\n      <th>Breed</th>\n      <th>Adaptability</th>\n      <th>All Around Friendliness</th>\n      <th>Exercise Needs</th>\n      <th>Health Grooming</th>\n      <th>Trainability</th>\n      <th>Adapts Well to Apartment Living</th>\n      <th>Affectionate with Family</th>\n      <th>Amount Of Shedding</th>\n      <th>Dog Friendly</th>\n      <th>...</th>\n      <th>Tolerates Hot Weather</th>\n      <th>Wanderlust Potential</th>\n      <th>type</th>\n      <th>congential ailments</th>\n      <th>$LIFETIME COST</th>\n      <th>LONGEVITY(YEARS)</th>\n      <th>NUMBER OF GENETIC AILMENTS</th>\n      <th>PURCHASE PRICE</th>\n      <th>FOOD COSTS PER YEAR</th>\n      <th>GROOMING FREQUNCY</th>\n    </tr>\n  </thead>\n  <tbody>\n    <tr>\n      <th>0</th>\n      <td>Affenpinscher</td>\n      <td>3.0</td>\n      <td>3.0</td>\n      <td>4.0</td>\n      <td>2.0</td>\n      <td>3.0</td>\n      <td>5.0</td>\n      <td>5.0</td>\n      <td>1.0</td>\n      <td>4.0</td>\n      <td>...</td>\n      <td>3.0</td>\n      <td>2.0</td>\n      <td>toy</td>\n      <td>none</td>\n      <td>$18,333</td>\n      <td>11.42</td>\n      <td>0</td>\n      <td>$510</td>\n      <td>$324</td>\n      <td>Once in a few weeks</td>\n    </tr>\n    <tr>\n      <th>1</th>\n      <td>Afghan Hound</td>\n      <td>4.0</td>\n      <td>4.0</td>\n      <td>4.0</td>\n      <td>2.0</td>\n      <td>3.0</td>\n      <td>5.0</td>\n      <td>5.0</td>\n      <td>4.0</td>\n      <td>4.0</td>\n      <td>...</td>\n      <td>5.0</td>\n      <td>5.0</td>\n      <td>hound</td>\n      <td>none</td>\n      <td>$24,077</td>\n      <td>11.92</td>\n      <td>0</td>\n      <td>$890</td>\n      <td>$710</td>\n      <td>Daily</td>\n    </tr>\n    <tr>\n      <th>2</th>\n      <td>Airedale Terrier</td>\n      <td>2.0</td>\n      <td>4.0</td>\n      <td>5.0</td>\n      <td>3.0</td>\n      <td>5.0</td>\n      <td>1.0</td>\n      <td>4.0</td>\n      <td>2.0</td>\n      <td>4.0</td>\n      <td>...</td>\n      <td>3.0</td>\n      <td>4.0</td>\n      <td>NaN</td>\n      <td>NaN</td>\n      <td>NaN</td>\n      <td>NaN</td>\n      <td>NaN</td>\n      <td>NaN</td>\n      <td>NaN</td>\n      <td>NaN</td>\n    </tr>\n    <tr>\n      <th>3</th>\n      <td>Akita</td>\n      <td>3.0</td>\n      <td>2.0</td>\n      <td>4.0</td>\n      <td>4.0</td>\n      <td>4.0</td>\n      <td>2.0</td>\n      <td>5.0</td>\n      <td>5.0</td>\n      <td>1.0</td>\n      <td>...</td>\n      <td>2.0</td>\n      <td>4.0</td>\n      <td>working</td>\n      <td>hip problems</td>\n      <td>$20,994</td>\n      <td>10.16</td>\n      <td>1</td>\n      <td>$1,202</td>\n      <td>$710</td>\n      <td>Once a week</td>\n    </tr>\n    <tr>\n      <th>4</th>\n      <td>Alaskan Klee Kai</td>\n      <td>3.0</td>\n      <td>3.0</td>\n      <td>4.0</td>\n      <td>3.0</td>\n      <td>4.0</td>\n      <td>3.0</td>\n      <td>4.0</td>\n      <td>4.0</td>\n      <td>2.0</td>\n      <td>...</td>\n      <td>2.0</td>\n      <td>4.0</td>\n      <td>NaN</td>\n      <td>NaN</td>\n      <td>NaN</td>\n      <td>NaN</td>\n      <td>NaN</td>\n      <td>NaN</td>\n      <td>NaN</td>\n      <td>NaN</td>\n    </tr>\n  </tbody>\n</table>\n<p>5 rows × 39 columns</p>\n</div>"
     },
     "execution_count": 109,
     "metadata": {},
     "output_type": "execute_result"
    }
   ],
   "execution_count": 109,
   "source": [
    "# add columns that not exist in df_dog_separate from df_dog_ranked\n",
    "# score and popularity_ranking were discarded because were based on range(1,87) = length of df_dog_ranked\n",
    "# other columns were similar to df_dog_separate.columns\n",
    "adding_columns = [\"type\", \"congential ailments\", \"$LIFETIME COST\", \"LONGEVITY(YEARS)\", \"NUMBER OF GENETIC AILMENTS\", \"PURCHASE PRICE\"\n",
    "                  , \"FOOD COSTS PER YEAR\", \"GROOMING FREQUNCY\"]\n",
    "\n",
    "for label in adding_columns:\n",
    "    df_dog_separate[f\"{label}\"] = {}\n",
    "\n",
    "# adding values\n",
    "for index, row in df_dog_ranked.iterrows():\n",
    "    index_df_dog_sep = np.where(df_dog_separate[\"Breed\"] == row[\"Breed\"])[0][0]\n",
    "    for label in adding_columns:\n",
    "        if pd.isna(row[f\"{label}\"]):\n",
    "            continue\n",
    "        df_dog_separate.loc[index_df_dog_sep, label] = row[label]\n",
    "\n",
    "df_dog_separate.head()"
   ],
   "id": "f8e10817c0c86cc4"
  },
  {
   "cell_type": "code",
   "execution_count": 110,
   "outputs": [
    {
     "data": {
      "text/plain": "              Breed  Adaptability  All Around Friendliness  Exercise Needs  \\\n0     Affenpinscher           3.0                      3.0             4.0   \n1      Afghan Hound           4.0                      4.0             4.0   \n2  Airedale Terrier           2.0                      4.0             5.0   \n3             Akita           3.0                      2.0             4.0   \n4  Alaskan Klee Kai           3.0                      3.0             4.0   \n\n   Health Grooming  Trainability  Adapts Well to Apartment Living  \\\n0              2.0           3.0                              5.0   \n1              2.0           3.0                              5.0   \n2              3.0           5.0                              1.0   \n3              4.0           4.0                              2.0   \n4              3.0           4.0                              3.0   \n\n   Affectionate with Family  Amount Of Shedding  Dog Friendly  ...  \\\n0                       5.0                 1.0           4.0  ...   \n1                       5.0                 4.0           4.0  ...   \n2                       4.0                 2.0           4.0  ...   \n3                       5.0                 5.0           1.0  ...   \n4                       4.0                 4.0           2.0  ...   \n\n   Tolerates Hot Weather  Wanderlust Potential     type  congential ailments  \\\n0                    3.0                   2.0      toy                 none   \n1                    5.0                   5.0    hound                 none   \n2                    3.0                   4.0      NaN                  NaN   \n3                    2.0                   4.0  working         hip problems   \n4                    2.0                   4.0      NaN                  NaN   \n\n   $LIFETIME COST  LONGEVITY(YEARS)  NUMBER OF GENETIC AILMENTS  \\\n0           18333             11.42                           0   \n1           24077             11.92                           0   \n2             NaN               NaN                         NaN   \n3           20994             10.16                           1   \n4             NaN               NaN                         NaN   \n\n   PURCHASE PRICE  FOOD COSTS PER YEAR    GROOMING FREQUNCY  \n0             510                  324  Once in a few weeks  \n1             890                  710                Daily  \n2             NaN                  NaN                  NaN  \n3            1202                  710          Once a week  \n4             NaN                  NaN                  NaN  \n\n[5 rows x 39 columns]",
      "text/html": "<div>\n<style scoped>\n    .dataframe tbody tr th:only-of-type {\n        vertical-align: middle;\n    }\n\n    .dataframe tbody tr th {\n        vertical-align: top;\n    }\n\n    .dataframe thead th {\n        text-align: right;\n    }\n</style>\n<table border=\"1\" class=\"dataframe\">\n  <thead>\n    <tr style=\"text-align: right;\">\n      <th></th>\n      <th>Breed</th>\n      <th>Adaptability</th>\n      <th>All Around Friendliness</th>\n      <th>Exercise Needs</th>\n      <th>Health Grooming</th>\n      <th>Trainability</th>\n      <th>Adapts Well to Apartment Living</th>\n      <th>Affectionate with Family</th>\n      <th>Amount Of Shedding</th>\n      <th>Dog Friendly</th>\n      <th>...</th>\n      <th>Tolerates Hot Weather</th>\n      <th>Wanderlust Potential</th>\n      <th>type</th>\n      <th>congential ailments</th>\n      <th>$LIFETIME COST</th>\n      <th>LONGEVITY(YEARS)</th>\n      <th>NUMBER OF GENETIC AILMENTS</th>\n      <th>PURCHASE PRICE</th>\n      <th>FOOD COSTS PER YEAR</th>\n      <th>GROOMING FREQUNCY</th>\n    </tr>\n  </thead>\n  <tbody>\n    <tr>\n      <th>0</th>\n      <td>Affenpinscher</td>\n      <td>3.0</td>\n      <td>3.0</td>\n      <td>4.0</td>\n      <td>2.0</td>\n      <td>3.0</td>\n      <td>5.0</td>\n      <td>5.0</td>\n      <td>1.0</td>\n      <td>4.0</td>\n      <td>...</td>\n      <td>3.0</td>\n      <td>2.0</td>\n      <td>toy</td>\n      <td>none</td>\n      <td>18333</td>\n      <td>11.42</td>\n      <td>0</td>\n      <td>510</td>\n      <td>324</td>\n      <td>Once in a few weeks</td>\n    </tr>\n    <tr>\n      <th>1</th>\n      <td>Afghan Hound</td>\n      <td>4.0</td>\n      <td>4.0</td>\n      <td>4.0</td>\n      <td>2.0</td>\n      <td>3.0</td>\n      <td>5.0</td>\n      <td>5.0</td>\n      <td>4.0</td>\n      <td>4.0</td>\n      <td>...</td>\n      <td>5.0</td>\n      <td>5.0</td>\n      <td>hound</td>\n      <td>none</td>\n      <td>24077</td>\n      <td>11.92</td>\n      <td>0</td>\n      <td>890</td>\n      <td>710</td>\n      <td>Daily</td>\n    </tr>\n    <tr>\n      <th>2</th>\n      <td>Airedale Terrier</td>\n      <td>2.0</td>\n      <td>4.0</td>\n      <td>5.0</td>\n      <td>3.0</td>\n      <td>5.0</td>\n      <td>1.0</td>\n      <td>4.0</td>\n      <td>2.0</td>\n      <td>4.0</td>\n      <td>...</td>\n      <td>3.0</td>\n      <td>4.0</td>\n      <td>NaN</td>\n      <td>NaN</td>\n      <td>NaN</td>\n      <td>NaN</td>\n      <td>NaN</td>\n      <td>NaN</td>\n      <td>NaN</td>\n      <td>NaN</td>\n    </tr>\n    <tr>\n      <th>3</th>\n      <td>Akita</td>\n      <td>3.0</td>\n      <td>2.0</td>\n      <td>4.0</td>\n      <td>4.0</td>\n      <td>4.0</td>\n      <td>2.0</td>\n      <td>5.0</td>\n      <td>5.0</td>\n      <td>1.0</td>\n      <td>...</td>\n      <td>2.0</td>\n      <td>4.0</td>\n      <td>working</td>\n      <td>hip problems</td>\n      <td>20994</td>\n      <td>10.16</td>\n      <td>1</td>\n      <td>1202</td>\n      <td>710</td>\n      <td>Once a week</td>\n    </tr>\n    <tr>\n      <th>4</th>\n      <td>Alaskan Klee Kai</td>\n      <td>3.0</td>\n      <td>3.0</td>\n      <td>4.0</td>\n      <td>3.0</td>\n      <td>4.0</td>\n      <td>3.0</td>\n      <td>4.0</td>\n      <td>4.0</td>\n      <td>2.0</td>\n      <td>...</td>\n      <td>2.0</td>\n      <td>4.0</td>\n      <td>NaN</td>\n      <td>NaN</td>\n      <td>NaN</td>\n      <td>NaN</td>\n      <td>NaN</td>\n      <td>NaN</td>\n      <td>NaN</td>\n      <td>NaN</td>\n    </tr>\n  </tbody>\n</table>\n<p>5 rows × 39 columns</p>\n</div>"
     },
     "execution_count": 110,
     "metadata": {},
     "output_type": "execute_result"
    }
   ],
   "source": [
    "# cleaning NUMBER OF GENETIC AILMENTS after manual update in cani.csv\n",
    "# convert to int $LIFETIME COST, $PURCHASE PRICE, FOOD COSTS PER YEAR\n",
    "\n",
    "for index, row in df_dog_separate.iterrows():\n",
    "    if not pd.isna(row[\"congential ailments\"]):\n",
    "        number_gen_ailments = 0 if row[\"congential ailments\"] == \"none\" else len(row[\"congential ailments\"].split(\",\"))\n",
    "        df_dog_separate.loc[index, \"NUMBER OF GENETIC AILMENTS\"] = number_gen_ailments\n",
    "    if not pd.isna(row[\"$LIFETIME COST\"]):\n",
    "        lifetime_cost = row[\"$LIFETIME COST\"].split(\"$\")[1]\n",
    "        lifetime_cost = lifetime_cost.replace(\",\", \"\")\n",
    "        lifetime_cost = lifetime_cost.replace(\" \", \"\")\n",
    "        df_dog_separate.loc[index, \"$LIFETIME COST\"] = lifetime_cost\n",
    "    if not pd.isna(row[\"PURCHASE PRICE\"]):\n",
    "        purchase_price = row[\"PURCHASE PRICE\"].split(\"$\")[1]\n",
    "        purchase_price = purchase_price.replace(\",\", \"\")\n",
    "        purchase_price = purchase_price.replace(\" \", \"\")\n",
    "        df_dog_separate.loc[index, \"PURCHASE PRICE\"] = purchase_price\n",
    "    if not pd.isna(row[\"FOOD COSTS PER YEAR\"]):\n",
    "        food_cost = row[\"FOOD COSTS PER YEAR\"].split(\"$\")[1]\n",
    "        food_cost = food_cost.replace(\" \", \"\")\n",
    "        lifetime_cost = food_cost.replace(\",\", \"\")\n",
    "        df_dog_separate.loc[index, \"FOOD COSTS PER YEAR\"] = food_cost\n",
    "\n",
    "df_dog_separate.head()"
   ],
   "metadata": {
    "collapsed": false
   }
  },
  {
   "cell_type": "code",
   "execution_count": 116,
   "outputs": [],
   "source": [
    "df_dog_separate = df_dog_separate.rename(columns={\"type\":\"Type\", \"congential ailments\":\"Congenital Ailments\", \"$LIFETIME COST\":\"$Lifetime Cost\",\n",
    "                                \"LONGEVITY(YEARS)\":\"Longevity (years)\", \"NUMBER OF GENETIC AILMENTS\": \"Number of Congenital Ailments\",\n",
    "                                \"PURCHASE PRICE\":\"$Purchase Price\", \"FOOD COSTS PER YEAR\": \"$Food Costs Per Year\",\n",
    "                                \"GROOMING FREQUNCY\": \"Grooming Frequency\"})\n",
    "\n",
    "df_dog_separate.head()\n",
    "df_dog_separate.to_csv(\"cleaned_datasets/dog_breeds.csv\", index=False)"
   ],
   "metadata": {
    "collapsed": false
   }
  }
 ],
 "metadata": {
  "kernelspec": {
   "display_name": "Python 3",
   "language": "python",
   "name": "python3"
  },
  "language_info": {
   "codemirror_mode": {
    "name": "ipython",
    "version": 2
   },
   "file_extension": ".py",
   "mimetype": "text/x-python",
   "name": "python",
   "nbconvert_exporter": "python",
   "pygments_lexer": "ipython2",
   "version": "2.7.6"
  }
 },
 "nbformat": 4,
 "nbformat_minor": 5
}
