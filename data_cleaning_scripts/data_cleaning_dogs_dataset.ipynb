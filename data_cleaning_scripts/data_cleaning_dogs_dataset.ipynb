{
 "cells": [
  {
   "metadata": {},
   "cell_type": "markdown",
   "source": [
    "# Data Cleaning Dogs Datasets "
   ],
   "id": "713c354e94ebba0c"
  },
  {
   "metadata": {
    "ExecuteTime": {
     "end_time": "2024-06-03T13:53:34.670584Z",
     "start_time": "2024-06-03T13:53:34.668385Z"
    }
   },
   "cell_type": "code",
   "source": [
    "import pandas as pd\n",
    "import numpy as np"
   ],
   "id": "87a9558449feb297",
   "outputs": [],
   "execution_count": 8
  },
  {
   "metadata": {
    "ExecuteTime": {
     "end_time": "2024-06-03T13:53:34.700550Z",
     "start_time": "2024-06-03T13:53:34.680989Z"
    },
    "pycharm": {
     "is_executing": true
    }
   },
   "cell_type": "code",
   "source": [
    "df_dog_separate = pd.read_csv('../dataset/separate-datasets/dog_breeds.csv')\n",
    "\n",
    "# delete tuple where are all null value (Korean Jindo Dog, Xoloitzcuintli) - manual\n",
    "columns = df_dog_separate.columns\n",
    "\n",
    "# check NaN values\n",
    "for index, row in df_dog_separate.iterrows():\n",
    "    for column in columns:\n",
    "        if pd.isna(row[column]):\n",
    "            print(f\"Index {index} has NaN values in column {column}\")\n",
    "            \n",
    "df_dog_separate.columns"
   ],
   "id": "1d2ef1e1c08beb9d",
   "outputs": [],
   "execution_count": null
  },
  {
   "metadata": {
    "ExecuteTime": {
     "end_time": "2024-06-03T13:53:34.705837Z",
     "start_time": "2024-06-03T13:53:34.701649Z"
    }
   },
   "cell_type": "code",
   "source": [
    "df_dog_ranked = pd.read_csv('original-datasets/cani.csv')\n",
    "df_dog_ranked.columns"
   ],
   "id": "be40806f9a17bae7",
   "outputs": [],
   "execution_count": null
  },
  {
   "cell_type": "code",
   "source": [
    "# delete duplicate column in df_dog_separate\n",
    "df_dog_separate = df_dog_separate.drop(labels=[\"Exercise Needs.1\"], axis=1)\n",
    "\n",
    "# delete duplicate column in df_dog_ranked\n",
    "df_dog_ranked = df_dog_ranked.drop(labels=[\"GENETIC AILMENTS\"], axis=1)"
   ],
   "metadata": {
    "collapsed": false,
    "ExecuteTime": {
     "end_time": "2024-06-03T13:53:34.708798Z",
     "start_time": "2024-06-03T13:53:34.706357Z"
    }
   },
   "id": "46376947793c574c",
   "outputs": [],
   "execution_count": null
  },
  {
   "cell_type": "code",
   "source": [
    "df_dog_separate.head()"
   ],
   "metadata": {
    "collapsed": false,
    "ExecuteTime": {
     "end_time": "2024-06-03T13:53:34.719726Z",
     "start_time": "2024-06-03T13:53:34.710775Z"
    }
   },
   "id": "f31a4e5ec7d17959",
   "outputs": [],
   "execution_count": null
  },
  {
   "cell_type": "code",
   "source": [
    "df_dog_ranked.head()"
   ],
   "metadata": {
    "collapsed": false,
    "ExecuteTime": {
     "end_time": "2024-06-03T13:53:34.726008Z",
     "start_time": "2024-06-03T13:53:34.720827Z"
    }
   },
   "id": "566494e437e09494",
   "outputs": [],
   "execution_count": null
  },
  {
   "cell_type": "code",
   "source": [
    "# check df_dog_ranked[\"Breeds\"] is subset of df_dog_separate[\"Breeds\"]\n",
    "breeds_sep = df_dog_separate[\"Breed\"]\n",
    "breeds_rank = df_dog_ranked[\"Breed\"]\n",
    "\n",
    "breeds_rank.isin(breeds_sep)"
   ],
   "metadata": {
    "collapsed": false,
    "ExecuteTime": {
     "end_time": "2024-06-03T13:53:34.729210Z",
     "start_time": "2024-06-03T13:53:34.726660Z"
    }
   },
   "id": "c28b9744ba5281cc",
   "outputs": [],
   "execution_count": null
  },
  {
   "cell_type": "code",
   "source": [
    "print(breeds_rank[72]) # this value is in breeds_sep but another name\n",
    "df_dog_ranked.loc[72, \"Breed\"] = \"German Shepherd Dog\""
   ],
   "metadata": {
    "collapsed": false,
    "ExecuteTime": {
     "end_time": "2024-06-03T13:53:34.732368Z",
     "start_time": "2024-06-03T13:53:34.730244Z"
    }
   },
   "id": "713d19bc7b185ddf",
   "outputs": [],
   "execution_count": null
  },
  {
   "metadata": {
    "ExecuteTime": {
     "end_time": "2024-06-03T13:53:34.781381Z",
     "start_time": "2024-06-03T13:53:34.732846Z"
    }
   },
   "cell_type": "code",
   "source": [
    "# add columns that not exist in df_dog_separate from df_dog_ranked\n",
    "# score and popularity_ranking were discarded because were based on range(1,87) = length of df_dog_ranked\n",
    "# other columns were similar to df_dog_separate.columns\n",
    "adding_columns = [\"type\", \"congential ailments\", \"$LIFETIME COST\", \"LONGEVITY(YEARS)\", \"NUMBER OF GENETIC AILMENTS\", \"PURCHASE PRICE\"\n",
    "                  , \"FOOD COSTS PER YEAR\", \"GROOMING FREQUNCY\"]\n",
    "\n",
    "for label in adding_columns:\n",
    "    df_dog_separate[f\"{label}\"] = {}\n",
    "\n",
    "# adding values\n",
    "for index, row in df_dog_ranked.iterrows():\n",
    "    index_df_dog_sep = np.where(df_dog_separate[\"Breed\"] == row[\"Breed\"])[0][0]\n",
    "    for label in adding_columns:\n",
    "        if pd.isna(row[f\"{label}\"]):\n",
    "            continue\n",
    "        df_dog_separate.loc[index_df_dog_sep, label] = row[label]\n",
    "\n",
    "df_dog_separate.head()"
   ],
   "id": "f8e10817c0c86cc4",
   "outputs": [],
   "execution_count": null
  },
  {
   "cell_type": "code",
   "source": [
    "# cleaning NUMBER OF GENETIC AILMENTS after manual update in cani.csv\n",
    "# convert to int $LIFETIME COST, $PURCHASE PRICE, FOOD COSTS PER YEAR\n",
    "\n",
    "for index, row in df_dog_separate.iterrows():\n",
    "    if not pd.isna(row[\"congential ailments\"]):\n",
    "        number_gen_ailments = 0 if row[\"congential ailments\"] == \"none\" else len(row[\"congential ailments\"].split(\",\"))\n",
    "        df_dog_separate.loc[index, \"NUMBER OF GENETIC AILMENTS\"] = int(number_gen_ailments)\n",
    "    if not pd.isna(row[\"$LIFETIME COST\"]):\n",
    "        lifetime_cost = row[\"$LIFETIME COST\"].split(\"$\")[1]\n",
    "        lifetime_cost = lifetime_cost.replace(\",\", \"\")\n",
    "        lifetime_cost = lifetime_cost.replace(\" \", \"\")\n",
    "        df_dog_separate.loc[index, \"$LIFETIME COST\"] = int(lifetime_cost)\n",
    "    if not pd.isna(row[\"PURCHASE PRICE\"]):\n",
    "        purchase_price = row[\"PURCHASE PRICE\"].split(\"$\")[1]\n",
    "        purchase_price = purchase_price.replace(\",\", \"\")\n",
    "        purchase_price = purchase_price.replace(\" \", \"\")\n",
    "        df_dog_separate.loc[index, \"PURCHASE PRICE\"] = int(purchase_price)\n",
    "    if not pd.isna(row[\"FOOD COSTS PER YEAR\"]):\n",
    "        food_cost = row[\"FOOD COSTS PER YEAR\"].split(\"$\")[1]\n",
    "        food_cost = food_cost.replace(\" \", \"\")\n",
    "        food_cost = food_cost.replace(\",\", \"\")\n",
    "        df_dog_separate.loc[index, \"FOOD COSTS PER YEAR\"] = int(food_cost)\n",
    "\n",
    "df_dog_separate.head()"
   ],
   "metadata": {
    "collapsed": false,
    "ExecuteTime": {
     "end_time": "2024-06-03T13:53:34.811194Z",
     "start_time": "2024-06-03T13:53:34.781964Z"
    }
   },
   "id": "5b087bd48514329a",
   "outputs": [],
   "execution_count": null
  },
  {
   "cell_type": "code",
   "execution_count": null,
   "outputs": [],
   "source": [
    "print(df_dog_separate.columns)"
   ],
   "metadata": {
    "collapsed": false,
    "pycharm": {
     "is_executing": true
    }
   }
  },
  {
   "cell_type": "code",
   "source": [
    "df_dog_separate = df_dog_separate.rename(columns={\"All Around Friendliness\" : \"All_Around_Friendliness\",\n",
    "                                                  \"Exercise Needs\" : \"Exercise_Needs\",\n",
    "                                                  \"Health Grooming\" : \"Health_Grooming\",\n",
    "                                                  \"Adapts Well to Apartment Living\" : \"Adapts_Well_to_Apartment_Living\",\n",
    "                                                  \"Affectionate with Family\" : \"Affectionate_with_Family\",\n",
    "                                                  \"Amount Of Shedding\" : \"Amount_Of_Shedding\",\n",
    "                                                  \"Dog Friendly\" : \"Dog_Friendly\",\n",
    "                                                  \"Drooling Potential\" : \"Drooling_Potential\",\n",
    "                                                  \"Easy To Groom\" : \"Easy_To_Groom\",\n",
    "                                                  \"Easy To Train\" : \"Easy_To_Train\",\n",
    "                                                  \"Energy Level\" : \"Energy_Level\",\n",
    "                                                  \"Friendly Toward Strangers\" : \"Friendly_Toward_Strangers\",\n",
    "                                                  \"General Health\" : \"General_Health\",\n",
    "                                                  \"Good For Novice Owners\" : \"Good_For_Novice_Owners\",\n",
    "                                                  \"Incredibly Kid Friendly Dogs\" : \"Incredibly_Kid_Friendly_Dogs\",\n",
    "                                                  \"Potential For Mouthiness\" : \"Potential_For_Mouthiness\",\n",
    "                                                  \"Potential For Playfulness\" : \"Potential_For_Playfulness\",\n",
    "                                                  \"Potential For Weight Gain\" : \"Potential_For_Weight_Gain\",\n",
    "                                                  \"Prey Drive\" : \"Prey_Drive\",\n",
    "                                                  \"Sensitivity Level\" : \"Sensitivity_Level\",\n",
    "                                                  \"Tendency To Bark Or Howl\" : \"Tendency_To_Bark_Or_Howl\",\n",
    "                                                  \"Tolerates Being Alone\" : \"Tolerates_Being_Alone\",\n",
    "                                                  \"Tolerates Cold Weather\" : \"Tolerates_Cold_Weather\",\n",
    "                                                  \"Tolerates Hot Weather\" : \"Tolerates_Hot_Weather\",\n",
    "                                                  \"Wanderlust Potential\" : \"Wanderlust_Potential\",\n",
    "                                                  \"type\":\"Type\",\n",
    "                                                  \"congential ailments\":\"Congenital_Ailments\",\n",
    "                                                  \"$LIFETIME COST\":\"Lifetime_Cost\",\n",
    "                                                  \"LONGEVITY(YEARS)\":\"Longevity_Years\",\n",
    "                                                  \"NUMBER OF GENETIC AILMENTS\": \"Number_of_Congenital_Ailments\",\n",
    "                                                  \"PURCHASE PRICE\":\"Purchase_Price\",\n",
    "                                                  \"FOOD COSTS PER YEAR\": \"Food_Costs_Per_Year\",\n",
    "                                                  \"GROOMING FREQUNCY\": \"Grooming_Frequency\"})\n",
    "\n",
    "df_dog_separate.head()\n",
    "df_dog_separate.to_csv(\"../dataset/cleaned_datasets/dog_breeds.csv\", index=False)"
   ],
   "metadata": {
    "collapsed": false,
    "ExecuteTime": {
     "end_time": "2024-06-03T13:53:34.820991Z",
     "start_time": "2024-06-03T13:53:34.812131Z"
    }
   },
   "id": "89ca94560bd3f060",
   "outputs": [],
   "execution_count": 32
  }
 ],
 "metadata": {
  "kernelspec": {
   "display_name": "Python 3",
   "language": "python",
   "name": "python3"
  },
  "language_info": {
   "codemirror_mode": {
    "name": "ipython",
    "version": 2
   },
   "file_extension": ".py",
   "mimetype": "text/x-python",
   "name": "python",
   "nbconvert_exporter": "python",
   "pygments_lexer": "ipython2",
   "version": "2.7.6"
  }
 },
 "nbformat": 4,
 "nbformat_minor": 5
}
