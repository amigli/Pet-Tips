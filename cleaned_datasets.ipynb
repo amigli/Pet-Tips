{
 "cells": [
  {
   "cell_type": "code",
   "id": "initial_id",
   "metadata": {
    "collapsed": true,
    "ExecuteTime": {
     "end_time": "2024-05-31T15:13:10.810033Z",
     "start_time": "2024-05-31T15:13:10.807415Z"
    }
   },
   "source": [
    "import pandas as pd\n",
    "import json"
   ],
   "outputs": [],
   "execution_count": 12
  },
  {
   "metadata": {
    "ExecuteTime": {
     "end_time": "2024-05-31T15:26:04.175271Z",
     "start_time": "2024-05-31T15:26:04.133711Z"
    }
   },
   "cell_type": "code",
   "source": [
    "# Load the JSON data\n",
    "with open('original-datasets/cani-gatti.json', 'r') as file:\n",
    "    data = json.load(file)\n",
    "\n",
    "# Extract cat and dog breeds data\n",
    "cat_breeds = data.get('cat_breeds', {})\n",
    "dog_breeds = data.get('dog_breeds', {})\n",
    "\n",
    "# Create DataFrames for cat and dog breeds\n",
    "df_cats = pd.DataFrame(cat_breeds).T.reset_index().rename(columns={'index': 'Breed'})\n",
    "df_dogs = pd.DataFrame(dog_breeds).T.reset_index().rename(columns={'index': 'Breed'})\n",
    "\n",
    "# Save DataFrames to CSV files\n",
    "df_cats.to_csv('separate-datasets/cat_breeds.csv', index=False)\n",
    "df_dogs.to_csv('separate-datasets/dog_breeds.csv', index=False)\n",
    "\n",
    "df_cats.head(), df_dogs.head()"
   ],
   "id": "5460fe387ecd2975",
   "outputs": [
    {
     "data": {
      "text/plain": [
       "(                Breed  Affectionate with Family  Amount of Shedding  \\\n",
       " 0          Abyssinian                       3.0                 3.0   \n",
       " 1    American Bobtail                       4.0                 4.0   \n",
       " 2       American Curl                       5.0                 4.0   \n",
       " 3  American Shorthair                       3.0                 3.0   \n",
       " 4   American Wirehair                       4.0                 3.0   \n",
       " \n",
       "    Easy to Groom  General Health  Intelligence  Kid Friendly  Pet Friendly  \\\n",
       " 0            3.0             2.0           5.0           5.0           5.0   \n",
       " 1            3.0             4.0           4.0           4.0           4.0   \n",
       " 2            4.0             5.0           NaN           4.0           4.0   \n",
       " 3            4.0             4.0           4.0           4.0           3.0   \n",
       " 4            5.0             5.0           4.0           4.0           3.0   \n",
       " \n",
       "    Potential for Playfulness  Friendly Toward Strangers  Tendency to Vocalize  \n",
       " 0                        5.0                        NaN                   NaN  \n",
       " 1                        4.0                        4.0                   3.0  \n",
       " 2                        4.0                        4.0                   5.0  \n",
       " 3                        2.0                        4.0                   NaN  \n",
       " 4                        3.0                        3.0                   NaN  ,\n",
       "               Breed   Adaptability   All Around Friendliness   Exercise Needs  \\\n",
       " 0     Affenpinscher            3.0                       3.0              4.0   \n",
       " 1      Afghan Hound            4.0                       4.0              4.0   \n",
       " 2  Airedale Terrier            2.0                       4.0              5.0   \n",
       " 3             Akita            3.0                       2.0              4.0   \n",
       " 4  Alaskan Klee Kai            3.0                       3.0              4.0   \n",
       " \n",
       "     Health Grooming   Trainability  Adapts Well to Apartment Living  \\\n",
       " 0               2.0            3.0                              5.0   \n",
       " 1               2.0            3.0                              5.0   \n",
       " 2               3.0            5.0                              1.0   \n",
       " 3               4.0            4.0                              2.0   \n",
       " 4               3.0            4.0                              3.0   \n",
       " \n",
       "    Affectionate with Family  Amount Of Shedding  Dog Friendly  ...  \\\n",
       " 0                       5.0                 1.0           4.0  ...   \n",
       " 1                       5.0                 4.0           4.0  ...   \n",
       " 2                       4.0                 2.0           4.0  ...   \n",
       " 3                       5.0                 5.0           1.0  ...   \n",
       " 4                       4.0                 4.0           2.0  ...   \n",
       " \n",
       "    Potential For Playfulness  Potential For Weight Gain  Prey Drive  \\\n",
       " 0                        4.0                        3.0         3.0   \n",
       " 1                        4.0                        1.0         5.0   \n",
       " 2                        5.0                        4.0         5.0   \n",
       " 3                        5.0                        4.0         4.0   \n",
       " 4                        4.0                        2.0         5.0   \n",
       " \n",
       "    Sensitivity Level  Size  Tendency To Bark Or Howl  Tolerates Being Alone  \\\n",
       " 0                3.0   1.0                       2.0                    1.0   \n",
       " 1                5.0   4.0                       2.0                    2.0   \n",
       " 2                3.0   3.0                       4.0                    2.0   \n",
       " 3                5.0   4.0                       5.0                    1.0   \n",
       " 4                4.0   2.0                       3.0                    2.0   \n",
       " \n",
       "    Tolerates Cold Weather  Tolerates Hot Weather  Wanderlust Potential  \n",
       " 0                     3.0                    3.0                   2.0  \n",
       " 1                     5.0                    5.0                   5.0  \n",
       " 2                     3.0                    3.0                   4.0  \n",
       " 3                     5.0                    2.0                   4.0  \n",
       " 4                     5.0                    2.0                   4.0  \n",
       " \n",
       " [5 rows x 32 columns])"
      ]
     },
     "execution_count": 16,
     "metadata": {},
     "output_type": "execute_result"
    }
   ],
   "execution_count": 16
  },
  {
   "metadata": {},
   "cell_type": "code",
   "outputs": [],
   "execution_count": null,
   "source": "",
   "id": "f3b37784d79f7417"
  }
 ],
 "metadata": {
  "kernelspec": {
   "display_name": "Python 3",
   "language": "python",
   "name": "python3"
  },
  "language_info": {
   "codemirror_mode": {
    "name": "ipython",
    "version": 2
   },
   "file_extension": ".py",
   "mimetype": "text/x-python",
   "name": "python",
   "nbconvert_exporter": "python",
   "pygments_lexer": "ipython2",
   "version": "2.7.6"
  }
 },
 "nbformat": 4,
 "nbformat_minor": 5
}
